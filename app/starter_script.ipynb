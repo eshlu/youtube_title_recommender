{
 "cells": [
  {
   "cell_type": "markdown",
   "id": "b7876f5a",
   "metadata": {},
   "source": [
    "# YouTube Analytics Project\n",
    "\n",
    "This notebook demonstrates how to analyze YouTube video data using the YouTube Data API. It includes:\n",
    "\n",
    "1. Setting up the environment and API access\n",
    "2. Fetching channel information\n",
    "3. Collecting video data\n",
    "4. Basic data analysis and visualization\n",
    "\n",
    "\n",
    "## Prerequisites\n",
    "- Python 3.x\n",
    "- YouTube Data API key (get one from [Google Cloud Console](https://console.cloud.google.com/))\n",
    "- Required packages (install using `pip install -r requirements.txt`) \n",
    "- requests\n",
    "- pandas\n",
    "- numpy\n",
    "- plotly\n",
    "- wordcloud\n",
    "- scikit-learn\n",
    "- tqdm"
   ]
  },
  {
   "cell_type": "code",
   "execution_count": null,
   "id": "0d376dfe",
   "metadata": {},
   "outputs": [],
   "source": []
  },
  {
   "cell_type": "markdown",
   "id": "42d0e5e2-0beb-4dce-993a-0696e4784f96",
   "metadata": {},
   "source": [
    "## SETUP"
   ]
  },
  {
   "cell_type": "code",
   "execution_count": 8,
   "id": "6d6e9ba9-6c96-4185-84c9-0313e2dedf2f",
   "metadata": {},
   "outputs": [],
   "source": [
    "import requests\n",
    "import numpy as np\n",
    "import pandas as pd\n",
    "import plotly.express as px\n",
    "import time\n",
    "import re\n",
    "from tqdm import tqdm\n",
    "from sklearn.feature_extraction.text import TfidfVectorizer\n",
    "from sklearn.metrics.pairwise import cosine_similarity\n",
    "from sklearn.linear_model import Ridge\n",
    "from sklearn.model_selection import train_test_split\n",
    "from sklearn.metrics import mean_squared_error\n"
   ]
  },
  {
   "cell_type": "code",
   "execution_count": 9,
   "id": "32003f42-b403-424b-8b10-043438e3eca4",
   "metadata": {},
   "outputs": [],
   "source": [
    "API_KEY = ###YOUR GOOGLE API KEY"
   ]
  },
  {
   "cell_type": "markdown",
   "id": "d9200a2f-6845-42bf-888d-18faf5cb64c2",
   "metadata": {},
   "source": [
    "## PULL CHANNELS"
   ]
  },
  {
   "cell_type": "code",
   "execution_count": 28,
   "id": "0a181aa4-23fa-4ba3-b28d-3b10a863071c",
   "metadata": {},
   "outputs": [],
   "source": [
    "\n",
    "urls = [\n",
    "    \"https://www.youtube.com/@nitsanraiter\",\n",
    "    \"https://www.youtube.com/@briddy\",\n",
    "    \"https://www.youtube.com/@clarapeirce\",\n",
    "    \"https://www.youtube.com/@urmomashley\",\n",
    "    \"https://www.youtube.com/@sannevloet\",\n",
    "    \"https://www.youtube.com/@claudiasulewski\",\n",
    "    \"https://www.youtube.com/@sophdoeslife\",\n",
    "    \"https://www.youtube.com/user/essiebutton\",\n",
    "    \"https://www.youtube.com/@shanrellsstash\",\n",
    "    \"https://www.youtube.com/@lindseymunette\",\n",
    "    \"https://www.youtube.com/@emmaroseleger\",\n",
    "    \"https://www.youtube.com/@claudiamariewalsh\",\n",
    "    \"https://www.youtube.com/@hjevelynha\",\n",
    "    \"https://www.youtube.com/@EmilyMariko\",\n",
    "    \"https://www.youtube.com/@eloisedufka\",\n",
    "    \"https://www.youtube.com/@EmmaMacDonald\",\n",
    "    \"https://www.youtube.com/@MaggieMacDonaldVlogs\",\n",
    "    \"https://www.youtube.com/@kaylieestewart\",\n",
    "    \"https://www.youtube.com/@hauskris\"\n",
    "\n"
   ]
  },
  {
   "cell_type": "code",
   "execution_count": null,
   "id": "3e3f9d95",
   "metadata": {},
   "outputs": [],
   "source": [
    "\n",
    "def extract_query(url):\n",
    "    match = re.search(r'youtube\\.com/(@[\\w\\d\\-]+|user/[\\w\\d\\-]+)', url)\n",
    "    return match.group(1) if match else None\n",
    "\n",
    "def get_channel_id_from_handle(handle_or_username, api_key):\n",
    "    if handle_or_username.startswith('@'):\n",
    "        query = handle_or_username\n",
    "    elif handle_or_username.startswith('user/'):\n",
    "        query = handle_or_username.split('/')[1]\n",
    "    else:\n",
    "        return handle_or_username, \"INVALID FORMAT\"\n",
    "\n",
    "    url = \"https://www.googleapis.com/youtube/v3/search\"\n",
    "    params = {\n",
    "        \"part\": \"snippet\",\n",
    "        \"q\": query,\n",
    "        \"type\": \"channel\",\n",
    "        \"maxResults\": 1,\n",
    "        \"key\": api_key\n",
    "    }\n",
    "    response = requests.get(url, params=params)\n",
    "    data = response.json()\n",
    "\n",
    "    try:\n",
    "        title = data['items'][0]['snippet']['channelTitle']\n",
    "        channel_id = data['items'][0]['snippet']['channelId']\n",
    "        return title, channel_id\n",
    "    except (IndexError, KeyError):\n",
    "        return query, \"NOT FOUND\""
   ]
  },
  {
   "cell_type": "code",
   "execution_count": null,
   "id": "3d00a9f4-0873-4526-a11b-4208acbadf5b",
   "metadata": {},
   "outputs": [],
   "source": [
    "results = []\n",
    "\n",
    "for url in urls:\n",
    "    query = extract_query(url)\n",
    "    if not query:\n",
    "        results.append({\"input_url\": url, \"channel_query\": \"INVALID\", \"channel_title\": \"\", \"channel_id\": \"INVALID\"})\n",
    "        continue\n",
    "\n",
    "    title, channel_id = get_channel_id_from_handle(query, API_KEY)\n",
    "    print(f\"{title}: {channel_id}\")\n",
    "    results.append({\n",
    "        \"input_url\": url,\n",
    "        \"channel_query\": query,\n",
    "        \"channel_title\": title,\n",
    "        \"channel_id\": channel_id\n",
    "    })\n",
    "    time.sleep(1)  \n",
    "\n",
    "df = pd.DataFrame(results)"
   ]
  },
  {
   "cell_type": "code",
   "execution_count": 4,
   "id": "751adb11-0993-49f6-bdae-8f664e5b5162",
   "metadata": {},
   "outputs": [
    {
     "name": "stdout",
     "output_type": "stream",
     "text": [
      "19  valid channels\n"
     ]
    }
   ],
   "source": [
    "valid_channels = df[df['channel_id'] != 'NOT FOUND']\n",
    "channel_ids = valid_channels['channel_id'].tolist()\n",
    "print(len(valid_channels), ' valid channels')"
   ]
  },
  {
   "cell_type": "markdown",
   "id": "f4da77c4-c145-4789-ae96-79a43aeeec51",
   "metadata": {},
   "source": [
    "## PULL VIDEOS"
   ]
  },
  {
   "cell_type": "code",
   "execution_count": 33,
   "id": "bc86013b-5169-4f10-bb07-83d1ade8977a",
   "metadata": {},
   "outputs": [],
   "source": [
    "def fetch_videos_for_channel(channel_id, max_results=50):\n",
    "    url = f\"https://www.googleapis.com/youtube/v3/search\"\n",
    "    params = {\n",
    "        \"key\": API_KEY,\n",
    "        \"channelId\": channel_id,\n",
    "        \"part\": \"snippet\",\n",
    "        \"order\": \"date\",\n",
    "        \"maxResults\": max_results,\n",
    "        \"type\": \"video\"\n",
    "    }\n",
    "    r = requests.get(url, params=params).json()\n",
    "    videos = []\n",
    "    for item in r.get(\"items\", []):\n",
    "        videos.append({\n",
    "            \"channel_id\": channel_id,\n",
    "            \"video_id\": item[\"id\"][\"videoId\"],\n",
    "            \"title\": item[\"snippet\"][\"title\"],\n",
    "            \"published_at\": item[\"snippet\"][\"publishedAt\"],\n",
    "        })\n",
    "    return videos\n",
    "\n",
    "def get_recent_videos(channel_id, api_key, after_date=\"2025-01-01T00:00:00Z\"):\n",
    "    url = \"https://www.googleapis.com/youtube/v3/search\"\n",
    "    params = {\n",
    "        \"part\": \"snippet\",\n",
    "        \"channelId\": channel_id,\n",
    "        \"publishedAfter\": after_date,\n",
    "        \"type\": \"video\",\n",
    "        \"order\": \"date\",\n",
    "        \"maxResults\": 50,\n",
    "        \"key\": api_key\n",
    "    }\n",
    "    response = requests.get(url, params=params).json()\n",
    "    videos = []\n",
    "    for item in response.get(\"items\", []):\n",
    "        videos.append({\n",
    "            \"channel_id\": channel_id,\n",
    "            \"video_id\": item[\"id\"][\"videoId\"],\n",
    "            \"title\": item[\"snippet\"][\"title\"],\n",
    "            \"published_at\": item[\"snippet\"][\"publishedAt\"]\n",
    "        })\n",
    "    return videos"
   ]
  },
  {
   "cell_type": "code",
   "execution_count": 34,
   "id": "1d15e38d-a504-46f2-a9f8-a1a907e4fa43",
   "metadata": {},
   "outputs": [
    {
     "name": "stderr",
     "output_type": "stream",
     "text": [
      "100%|████████████████████████████████████████████████████████████████████████████████████████████████████████████████████| 19/19 [00:05<00:00,  3.54it/s]\n"
     ]
    }
   ],
   "source": [
    "all_videos = []\n",
    "for cid in tqdm(channel_ids):\n",
    "    vids = get_recent_videos(cid, API_KEY)\n",
    "    all_videos.extend(vids)\n",
    "\n",
    "video_df = pd.DataFrame(all_videos)"
   ]
  },
  {
   "cell_type": "markdown",
   "id": "52183ae4",
   "metadata": {},
   "source": [
    "##"
   ]
  },
  {
   "cell_type": "markdown",
   "id": "cc79ef74",
   "metadata": {},
   "source": [
    "## EDA"
   ]
  },
  {
   "cell_type": "code",
   "execution_count": 12,
   "id": "357e2d5a-e9bb-44b8-a962-3cc4be0cd810",
   "metadata": {},
   "outputs": [
    {
     "name": "stderr",
     "output_type": "stream",
     "text": [
      "/var/folders/mx/cy8cr89935x92354w0qz6n280000gn/T/ipykernel_96287/2672265425.py:1: UserWarning: Converting to PeriodArray/Index representation will drop timezone information.\n",
      "  video_df['week'] = video_df['published_at'].dt.to_period('W').apply(lambda r: r.start_time)\n"
     ]
    },
    {
     "data": {
      "application/vnd.plotly.v1+json": {
       "config": {
        "plotlyServerURL": "https://plot.ly"
       },
       "data": [
        {
         "hovertemplate": "Week=%{x}<br>Number of Videos=%{y}<extra></extra>",
         "legendgroup": "",
         "marker": {
          "color": "#636efa",
          "pattern": {
           "shape": ""
          }
         },
         "name": "",
         "orientation": "v",
         "showlegend": false,
         "textposition": "auto",
         "type": "bar",
         "x": [
          "2024-12-30T00:00:00.000000000",
          "2025-01-06T00:00:00.000000000",
          "2025-01-13T00:00:00.000000000",
          "2025-01-20T00:00:00.000000000",
          "2025-01-27T00:00:00.000000000",
          "2025-02-03T00:00:00.000000000",
          "2025-02-10T00:00:00.000000000",
          "2025-02-17T00:00:00.000000000",
          "2025-02-24T00:00:00.000000000",
          "2025-03-03T00:00:00.000000000",
          "2025-03-10T00:00:00.000000000",
          "2025-03-17T00:00:00.000000000",
          "2025-03-24T00:00:00.000000000",
          "2025-03-31T00:00:00.000000000",
          "2025-04-07T00:00:00.000000000",
          "2025-04-14T00:00:00.000000000",
          "2025-04-21T00:00:00.000000000",
          "2025-04-28T00:00:00.000000000",
          "2025-05-05T00:00:00.000000000",
          "2025-05-12T00:00:00.000000000",
          "2025-05-19T00:00:00.000000000",
          "2025-05-26T00:00:00.000000000"
         ],
         "xaxis": "x",
         "y": {
          "bdata": "Cw0XDhIQEAsODwkVDxcXFRYPDRcSEA==",
          "dtype": "i1"
         },
         "yaxis": "y"
        }
       ],
       "layout": {
        "barmode": "relative",
        "height": 600,
        "legend": {
         "tracegroupgap": 0
        },
        "template": {
         "data": {
          "bar": [
           {
            "error_x": {
             "color": "#2a3f5f"
            },
            "error_y": {
             "color": "#2a3f5f"
            },
            "marker": {
             "line": {
              "color": "#E5ECF6",
              "width": 0.5
             },
             "pattern": {
              "fillmode": "overlay",
              "size": 10,
              "solidity": 0.2
             }
            },
            "type": "bar"
           }
          ],
          "barpolar": [
           {
            "marker": {
             "line": {
              "color": "#E5ECF6",
              "width": 0.5
             },
             "pattern": {
              "fillmode": "overlay",
              "size": 10,
              "solidity": 0.2
             }
            },
            "type": "barpolar"
           }
          ],
          "carpet": [
           {
            "aaxis": {
             "endlinecolor": "#2a3f5f",
             "gridcolor": "white",
             "linecolor": "white",
             "minorgridcolor": "white",
             "startlinecolor": "#2a3f5f"
            },
            "baxis": {
             "endlinecolor": "#2a3f5f",
             "gridcolor": "white",
             "linecolor": "white",
             "minorgridcolor": "white",
             "startlinecolor": "#2a3f5f"
            },
            "type": "carpet"
           }
          ],
          "choropleth": [
           {
            "colorbar": {
             "outlinewidth": 0,
             "ticks": ""
            },
            "type": "choropleth"
           }
          ],
          "contour": [
           {
            "colorbar": {
             "outlinewidth": 0,
             "ticks": ""
            },
            "colorscale": [
             [
              0,
              "#0d0887"
             ],
             [
              0.1111111111111111,
              "#46039f"
             ],
             [
              0.2222222222222222,
              "#7201a8"
             ],
             [
              0.3333333333333333,
              "#9c179e"
             ],
             [
              0.4444444444444444,
              "#bd3786"
             ],
             [
              0.5555555555555556,
              "#d8576b"
             ],
             [
              0.6666666666666666,
              "#ed7953"
             ],
             [
              0.7777777777777778,
              "#fb9f3a"
             ],
             [
              0.8888888888888888,
              "#fdca26"
             ],
             [
              1,
              "#f0f921"
             ]
            ],
            "type": "contour"
           }
          ],
          "contourcarpet": [
           {
            "colorbar": {
             "outlinewidth": 0,
             "ticks": ""
            },
            "type": "contourcarpet"
           }
          ],
          "heatmap": [
           {
            "colorbar": {
             "outlinewidth": 0,
             "ticks": ""
            },
            "colorscale": [
             [
              0,
              "#0d0887"
             ],
             [
              0.1111111111111111,
              "#46039f"
             ],
             [
              0.2222222222222222,
              "#7201a8"
             ],
             [
              0.3333333333333333,
              "#9c179e"
             ],
             [
              0.4444444444444444,
              "#bd3786"
             ],
             [
              0.5555555555555556,
              "#d8576b"
             ],
             [
              0.6666666666666666,
              "#ed7953"
             ],
             [
              0.7777777777777778,
              "#fb9f3a"
             ],
             [
              0.8888888888888888,
              "#fdca26"
             ],
             [
              1,
              "#f0f921"
             ]
            ],
            "type": "heatmap"
           }
          ],
          "histogram": [
           {
            "marker": {
             "pattern": {
              "fillmode": "overlay",
              "size": 10,
              "solidity": 0.2
             }
            },
            "type": "histogram"
           }
          ],
          "histogram2d": [
           {
            "colorbar": {
             "outlinewidth": 0,
             "ticks": ""
            },
            "colorscale": [
             [
              0,
              "#0d0887"
             ],
             [
              0.1111111111111111,
              "#46039f"
             ],
             [
              0.2222222222222222,
              "#7201a8"
             ],
             [
              0.3333333333333333,
              "#9c179e"
             ],
             [
              0.4444444444444444,
              "#bd3786"
             ],
             [
              0.5555555555555556,
              "#d8576b"
             ],
             [
              0.6666666666666666,
              "#ed7953"
             ],
             [
              0.7777777777777778,
              "#fb9f3a"
             ],
             [
              0.8888888888888888,
              "#fdca26"
             ],
             [
              1,
              "#f0f921"
             ]
            ],
            "type": "histogram2d"
           }
          ],
          "histogram2dcontour": [
           {
            "colorbar": {
             "outlinewidth": 0,
             "ticks": ""
            },
            "colorscale": [
             [
              0,
              "#0d0887"
             ],
             [
              0.1111111111111111,
              "#46039f"
             ],
             [
              0.2222222222222222,
              "#7201a8"
             ],
             [
              0.3333333333333333,
              "#9c179e"
             ],
             [
              0.4444444444444444,
              "#bd3786"
             ],
             [
              0.5555555555555556,
              "#d8576b"
             ],
             [
              0.6666666666666666,
              "#ed7953"
             ],
             [
              0.7777777777777778,
              "#fb9f3a"
             ],
             [
              0.8888888888888888,
              "#fdca26"
             ],
             [
              1,
              "#f0f921"
             ]
            ],
            "type": "histogram2dcontour"
           }
          ],
          "mesh3d": [
           {
            "colorbar": {
             "outlinewidth": 0,
             "ticks": ""
            },
            "type": "mesh3d"
           }
          ],
          "parcoords": [
           {
            "line": {
             "colorbar": {
              "outlinewidth": 0,
              "ticks": ""
             }
            },
            "type": "parcoords"
           }
          ],
          "pie": [
           {
            "automargin": true,
            "type": "pie"
           }
          ],
          "scatter": [
           {
            "fillpattern": {
             "fillmode": "overlay",
             "size": 10,
             "solidity": 0.2
            },
            "type": "scatter"
           }
          ],
          "scatter3d": [
           {
            "line": {
             "colorbar": {
              "outlinewidth": 0,
              "ticks": ""
             }
            },
            "marker": {
             "colorbar": {
              "outlinewidth": 0,
              "ticks": ""
             }
            },
            "type": "scatter3d"
           }
          ],
          "scattercarpet": [
           {
            "marker": {
             "colorbar": {
              "outlinewidth": 0,
              "ticks": ""
             }
            },
            "type": "scattercarpet"
           }
          ],
          "scattergeo": [
           {
            "marker": {
             "colorbar": {
              "outlinewidth": 0,
              "ticks": ""
             }
            },
            "type": "scattergeo"
           }
          ],
          "scattergl": [
           {
            "marker": {
             "colorbar": {
              "outlinewidth": 0,
              "ticks": ""
             }
            },
            "type": "scattergl"
           }
          ],
          "scattermap": [
           {
            "marker": {
             "colorbar": {
              "outlinewidth": 0,
              "ticks": ""
             }
            },
            "type": "scattermap"
           }
          ],
          "scattermapbox": [
           {
            "marker": {
             "colorbar": {
              "outlinewidth": 0,
              "ticks": ""
             }
            },
            "type": "scattermapbox"
           }
          ],
          "scatterpolar": [
           {
            "marker": {
             "colorbar": {
              "outlinewidth": 0,
              "ticks": ""
             }
            },
            "type": "scatterpolar"
           }
          ],
          "scatterpolargl": [
           {
            "marker": {
             "colorbar": {
              "outlinewidth": 0,
              "ticks": ""
             }
            },
            "type": "scatterpolargl"
           }
          ],
          "scatterternary": [
           {
            "marker": {
             "colorbar": {
              "outlinewidth": 0,
              "ticks": ""
             }
            },
            "type": "scatterternary"
           }
          ],
          "surface": [
           {
            "colorbar": {
             "outlinewidth": 0,
             "ticks": ""
            },
            "colorscale": [
             [
              0,
              "#0d0887"
             ],
             [
              0.1111111111111111,
              "#46039f"
             ],
             [
              0.2222222222222222,
              "#7201a8"
             ],
             [
              0.3333333333333333,
              "#9c179e"
             ],
             [
              0.4444444444444444,
              "#bd3786"
             ],
             [
              0.5555555555555556,
              "#d8576b"
             ],
             [
              0.6666666666666666,
              "#ed7953"
             ],
             [
              0.7777777777777778,
              "#fb9f3a"
             ],
             [
              0.8888888888888888,
              "#fdca26"
             ],
             [
              1,
              "#f0f921"
             ]
            ],
            "type": "surface"
           }
          ],
          "table": [
           {
            "cells": {
             "fill": {
              "color": "#EBF0F8"
             },
             "line": {
              "color": "white"
             }
            },
            "header": {
             "fill": {
              "color": "#C8D4E3"
             },
             "line": {
              "color": "white"
             }
            },
            "type": "table"
           }
          ]
         },
         "layout": {
          "annotationdefaults": {
           "arrowcolor": "#2a3f5f",
           "arrowhead": 0,
           "arrowwidth": 1
          },
          "autotypenumbers": "strict",
          "coloraxis": {
           "colorbar": {
            "outlinewidth": 0,
            "ticks": ""
           }
          },
          "colorscale": {
           "diverging": [
            [
             0,
             "#8e0152"
            ],
            [
             0.1,
             "#c51b7d"
            ],
            [
             0.2,
             "#de77ae"
            ],
            [
             0.3,
             "#f1b6da"
            ],
            [
             0.4,
             "#fde0ef"
            ],
            [
             0.5,
             "#f7f7f7"
            ],
            [
             0.6,
             "#e6f5d0"
            ],
            [
             0.7,
             "#b8e186"
            ],
            [
             0.8,
             "#7fbc41"
            ],
            [
             0.9,
             "#4d9221"
            ],
            [
             1,
             "#276419"
            ]
           ],
           "sequential": [
            [
             0,
             "#0d0887"
            ],
            [
             0.1111111111111111,
             "#46039f"
            ],
            [
             0.2222222222222222,
             "#7201a8"
            ],
            [
             0.3333333333333333,
             "#9c179e"
            ],
            [
             0.4444444444444444,
             "#bd3786"
            ],
            [
             0.5555555555555556,
             "#d8576b"
            ],
            [
             0.6666666666666666,
             "#ed7953"
            ],
            [
             0.7777777777777778,
             "#fb9f3a"
            ],
            [
             0.8888888888888888,
             "#fdca26"
            ],
            [
             1,
             "#f0f921"
            ]
           ],
           "sequentialminus": [
            [
             0,
             "#0d0887"
            ],
            [
             0.1111111111111111,
             "#46039f"
            ],
            [
             0.2222222222222222,
             "#7201a8"
            ],
            [
             0.3333333333333333,
             "#9c179e"
            ],
            [
             0.4444444444444444,
             "#bd3786"
            ],
            [
             0.5555555555555556,
             "#d8576b"
            ],
            [
             0.6666666666666666,
             "#ed7953"
            ],
            [
             0.7777777777777778,
             "#fb9f3a"
            ],
            [
             0.8888888888888888,
             "#fdca26"
            ],
            [
             1,
             "#f0f921"
            ]
           ]
          },
          "colorway": [
           "#636efa",
           "#EF553B",
           "#00cc96",
           "#ab63fa",
           "#FFA15A",
           "#19d3f3",
           "#FF6692",
           "#B6E880",
           "#FF97FF",
           "#FECB52"
          ],
          "font": {
           "color": "#2a3f5f"
          },
          "geo": {
           "bgcolor": "white",
           "lakecolor": "white",
           "landcolor": "#E5ECF6",
           "showlakes": true,
           "showland": true,
           "subunitcolor": "white"
          },
          "hoverlabel": {
           "align": "left"
          },
          "hovermode": "closest",
          "mapbox": {
           "style": "light"
          },
          "paper_bgcolor": "white",
          "plot_bgcolor": "#E5ECF6",
          "polar": {
           "angularaxis": {
            "gridcolor": "white",
            "linecolor": "white",
            "ticks": ""
           },
           "bgcolor": "#E5ECF6",
           "radialaxis": {
            "gridcolor": "white",
            "linecolor": "white",
            "ticks": ""
           }
          },
          "scene": {
           "xaxis": {
            "backgroundcolor": "#E5ECF6",
            "gridcolor": "white",
            "gridwidth": 2,
            "linecolor": "white",
            "showbackground": true,
            "ticks": "",
            "zerolinecolor": "white"
           },
           "yaxis": {
            "backgroundcolor": "#E5ECF6",
            "gridcolor": "white",
            "gridwidth": 2,
            "linecolor": "white",
            "showbackground": true,
            "ticks": "",
            "zerolinecolor": "white"
           },
           "zaxis": {
            "backgroundcolor": "#E5ECF6",
            "gridcolor": "white",
            "gridwidth": 2,
            "linecolor": "white",
            "showbackground": true,
            "ticks": "",
            "zerolinecolor": "white"
           }
          },
          "shapedefaults": {
           "line": {
            "color": "#2a3f5f"
           }
          },
          "ternary": {
           "aaxis": {
            "gridcolor": "white",
            "linecolor": "white",
            "ticks": ""
           },
           "baxis": {
            "gridcolor": "white",
            "linecolor": "white",
            "ticks": ""
           },
           "bgcolor": "#E5ECF6",
           "caxis": {
            "gridcolor": "white",
            "linecolor": "white",
            "ticks": ""
           }
          },
          "title": {
           "x": 0.05
          },
          "xaxis": {
           "automargin": true,
           "gridcolor": "white",
           "linecolor": "white",
           "ticks": "",
           "title": {
            "standoff": 15
           },
           "zerolinecolor": "white",
           "zerolinewidth": 2
          },
          "yaxis": {
           "automargin": true,
           "gridcolor": "white",
           "linecolor": "white",
           "ticks": "",
           "title": {
            "standoff": 15
           },
           "zerolinecolor": "white",
           "zerolinewidth": 2
          }
         }
        },
        "title": {
         "text": "Weekly Video Uploads"
        },
        "width": 900,
        "xaxis": {
         "anchor": "y",
         "domain": [
          0,
          1
         ],
         "title": {
          "text": "Week"
         }
        },
        "yaxis": {
         "anchor": "x",
         "domain": [
          0,
          1
         ],
         "title": {
          "text": "Number of Videos"
         }
        }
       }
      }
     },
     "metadata": {},
     "output_type": "display_data"
    }
   ],
   "source": [
    "video_df['published_at'] = pd.to_datetime(video_df['published_at'])\n",
    "video_df['week'] = video_df['published_at'].dt.to_period('W').apply(lambda r: r.start_time)\n",
    "\n",
    "week_counts = video_df.groupby('week').size().reset_index(name='video_count')\n",
    "\n",
    "fig = px.bar(week_counts, x='week', y='video_count',\n",
    "             title=\"Weekly Video Uploads\",\n",
    "             labels={'video_count': 'Number of Videos', 'week': 'Week'})\n",
    "fig.update_layout(width=900, height=600)\n",
    "fig.show()"
   ]
  },
  {
   "cell_type": "code",
   "execution_count": 47,
   "id": "56795d18-c873-47cd-9876-fe75c842ebc2",
   "metadata": {},
   "outputs": [
    {
     "name": "stderr",
     "output_type": "stream",
     "text": [
      "/var/folders/mx/cy8cr89935x92354w0qz6n280000gn/T/ipykernel_51742/1904518587.py:1: UserWarning:\n",
      "\n",
      "Converting to PeriodArray/Index representation will drop timezone information.\n",
      "\n"
     ]
    },
    {
     "data": {
      "text/html": [
       "<div>\n",
       "<style scoped>\n",
       "    .dataframe tbody tr th:only-of-type {\n",
       "        vertical-align: middle;\n",
       "    }\n",
       "\n",
       "    .dataframe tbody tr th {\n",
       "        vertical-align: top;\n",
       "    }\n",
       "\n",
       "    .dataframe thead th {\n",
       "        text-align: right;\n",
       "    }\n",
       "</style>\n",
       "<table border=\"1\" class=\"dataframe\">\n",
       "  <thead>\n",
       "    <tr style=\"text-align: right;\">\n",
       "      <th></th>\n",
       "      <th>month</th>\n",
       "      <th>video_count</th>\n",
       "    </tr>\n",
       "  </thead>\n",
       "  <tbody>\n",
       "    <tr>\n",
       "      <th>0</th>\n",
       "      <td>2025-01</td>\n",
       "      <td>77</td>\n",
       "    </tr>\n",
       "    <tr>\n",
       "      <th>1</th>\n",
       "      <td>2025-02</td>\n",
       "      <td>55</td>\n",
       "    </tr>\n",
       "    <tr>\n",
       "      <th>2</th>\n",
       "      <td>2025-03</td>\n",
       "      <td>66</td>\n",
       "    </tr>\n",
       "    <tr>\n",
       "      <th>3</th>\n",
       "      <td>2025-04</td>\n",
       "      <td>92</td>\n",
       "    </tr>\n",
       "    <tr>\n",
       "      <th>4</th>\n",
       "      <td>2025-05</td>\n",
       "      <td>80</td>\n",
       "    </tr>\n",
       "  </tbody>\n",
       "</table>\n",
       "</div>"
      ],
      "text/plain": [
       "     month  video_count\n",
       "0  2025-01           77\n",
       "1  2025-02           55\n",
       "2  2025-03           66\n",
       "3  2025-04           92\n",
       "4  2025-05           80"
      ]
     },
     "execution_count": 47,
     "metadata": {},
     "output_type": "execute_result"
    }
   ],
   "source": [
    "video_df['month'] = video_df['published_at'].dt.to_period('M').astype(str)\n",
    "\n",
    "month_counts = video_df.groupby('month').size().reset_index(name='video_count')\n",
    "month_counts.head()"
   ]
  },
  {
   "cell_type": "code",
   "execution_count": 31,
   "id": "6a65e9d9-a5b7-4e6a-83fa-a4432c345fe7",
   "metadata": {},
   "outputs": [
    {
     "data": {
      "application/vnd.plotly.v1+json": {
       "config": {
        "plotlyServerURL": "https://plot.ly"
       },
       "data": [
        {
         "alignmentgroup": "True",
         "hovertemplate": "channel_title=%{x}<br>Number of Videos=%{y}<extra></extra>",
         "legendgroup": "",
         "marker": {
          "color": "#636efa",
          "pattern": {
           "shape": ""
          }
         },
         "name": "",
         "offsetgroup": "",
         "orientation": "v",
         "showlegend": false,
         "textposition": "auto",
         "type": "bar",
         "x": [
          "Emily Mariko",
          "HJ Evelyn",
          "Sanne Vloet",
          "ur mom ashley",
          "Clara Peirce",
          "Shanrell’s Stash",
          "sophdoeslife",
          "Estée Lalonde",
          "Lindsey Munette",
          "Briddy",
          "Claudia Walsh",
          "Claudia Sulewski",
          "Emma Rose Léger",
          "Mariella",
          "DEE DOLLAR💰"
         ],
         "xaxis": "x",
         "y": [
          50,
          49,
          46,
          35,
          32,
          31,
          29,
          28,
          24,
          15,
          11,
          8,
          6,
          4,
          2
         ],
         "yaxis": "y"
        }
       ],
       "layout": {
        "barmode": "relative",
        "height": 600,
        "legend": {
         "tracegroupgap": 0
        },
        "template": {
         "data": {
          "bar": [
           {
            "error_x": {
             "color": "#2a3f5f"
            },
            "error_y": {
             "color": "#2a3f5f"
            },
            "marker": {
             "line": {
              "color": "#E5ECF6",
              "width": 0.5
             },
             "pattern": {
              "fillmode": "overlay",
              "size": 10,
              "solidity": 0.2
             }
            },
            "type": "bar"
           }
          ],
          "barpolar": [
           {
            "marker": {
             "line": {
              "color": "#E5ECF6",
              "width": 0.5
             },
             "pattern": {
              "fillmode": "overlay",
              "size": 10,
              "solidity": 0.2
             }
            },
            "type": "barpolar"
           }
          ],
          "carpet": [
           {
            "aaxis": {
             "endlinecolor": "#2a3f5f",
             "gridcolor": "white",
             "linecolor": "white",
             "minorgridcolor": "white",
             "startlinecolor": "#2a3f5f"
            },
            "baxis": {
             "endlinecolor": "#2a3f5f",
             "gridcolor": "white",
             "linecolor": "white",
             "minorgridcolor": "white",
             "startlinecolor": "#2a3f5f"
            },
            "type": "carpet"
           }
          ],
          "choropleth": [
           {
            "colorbar": {
             "outlinewidth": 0,
             "ticks": ""
            },
            "type": "choropleth"
           }
          ],
          "contour": [
           {
            "colorbar": {
             "outlinewidth": 0,
             "ticks": ""
            },
            "colorscale": [
             [
              0,
              "#0d0887"
             ],
             [
              0.1111111111111111,
              "#46039f"
             ],
             [
              0.2222222222222222,
              "#7201a8"
             ],
             [
              0.3333333333333333,
              "#9c179e"
             ],
             [
              0.4444444444444444,
              "#bd3786"
             ],
             [
              0.5555555555555556,
              "#d8576b"
             ],
             [
              0.6666666666666666,
              "#ed7953"
             ],
             [
              0.7777777777777778,
              "#fb9f3a"
             ],
             [
              0.8888888888888888,
              "#fdca26"
             ],
             [
              1,
              "#f0f921"
             ]
            ],
            "type": "contour"
           }
          ],
          "contourcarpet": [
           {
            "colorbar": {
             "outlinewidth": 0,
             "ticks": ""
            },
            "type": "contourcarpet"
           }
          ],
          "heatmap": [
           {
            "colorbar": {
             "outlinewidth": 0,
             "ticks": ""
            },
            "colorscale": [
             [
              0,
              "#0d0887"
             ],
             [
              0.1111111111111111,
              "#46039f"
             ],
             [
              0.2222222222222222,
              "#7201a8"
             ],
             [
              0.3333333333333333,
              "#9c179e"
             ],
             [
              0.4444444444444444,
              "#bd3786"
             ],
             [
              0.5555555555555556,
              "#d8576b"
             ],
             [
              0.6666666666666666,
              "#ed7953"
             ],
             [
              0.7777777777777778,
              "#fb9f3a"
             ],
             [
              0.8888888888888888,
              "#fdca26"
             ],
             [
              1,
              "#f0f921"
             ]
            ],
            "type": "heatmap"
           }
          ],
          "heatmapgl": [
           {
            "colorbar": {
             "outlinewidth": 0,
             "ticks": ""
            },
            "colorscale": [
             [
              0,
              "#0d0887"
             ],
             [
              0.1111111111111111,
              "#46039f"
             ],
             [
              0.2222222222222222,
              "#7201a8"
             ],
             [
              0.3333333333333333,
              "#9c179e"
             ],
             [
              0.4444444444444444,
              "#bd3786"
             ],
             [
              0.5555555555555556,
              "#d8576b"
             ],
             [
              0.6666666666666666,
              "#ed7953"
             ],
             [
              0.7777777777777778,
              "#fb9f3a"
             ],
             [
              0.8888888888888888,
              "#fdca26"
             ],
             [
              1,
              "#f0f921"
             ]
            ],
            "type": "heatmapgl"
           }
          ],
          "histogram": [
           {
            "marker": {
             "pattern": {
              "fillmode": "overlay",
              "size": 10,
              "solidity": 0.2
             }
            },
            "type": "histogram"
           }
          ],
          "histogram2d": [
           {
            "colorbar": {
             "outlinewidth": 0,
             "ticks": ""
            },
            "colorscale": [
             [
              0,
              "#0d0887"
             ],
             [
              0.1111111111111111,
              "#46039f"
             ],
             [
              0.2222222222222222,
              "#7201a8"
             ],
             [
              0.3333333333333333,
              "#9c179e"
             ],
             [
              0.4444444444444444,
              "#bd3786"
             ],
             [
              0.5555555555555556,
              "#d8576b"
             ],
             [
              0.6666666666666666,
              "#ed7953"
             ],
             [
              0.7777777777777778,
              "#fb9f3a"
             ],
             [
              0.8888888888888888,
              "#fdca26"
             ],
             [
              1,
              "#f0f921"
             ]
            ],
            "type": "histogram2d"
           }
          ],
          "histogram2dcontour": [
           {
            "colorbar": {
             "outlinewidth": 0,
             "ticks": ""
            },
            "colorscale": [
             [
              0,
              "#0d0887"
             ],
             [
              0.1111111111111111,
              "#46039f"
             ],
             [
              0.2222222222222222,
              "#7201a8"
             ],
             [
              0.3333333333333333,
              "#9c179e"
             ],
             [
              0.4444444444444444,
              "#bd3786"
             ],
             [
              0.5555555555555556,
              "#d8576b"
             ],
             [
              0.6666666666666666,
              "#ed7953"
             ],
             [
              0.7777777777777778,
              "#fb9f3a"
             ],
             [
              0.8888888888888888,
              "#fdca26"
             ],
             [
              1,
              "#f0f921"
             ]
            ],
            "type": "histogram2dcontour"
           }
          ],
          "mesh3d": [
           {
            "colorbar": {
             "outlinewidth": 0,
             "ticks": ""
            },
            "type": "mesh3d"
           }
          ],
          "parcoords": [
           {
            "line": {
             "colorbar": {
              "outlinewidth": 0,
              "ticks": ""
             }
            },
            "type": "parcoords"
           }
          ],
          "pie": [
           {
            "automargin": true,
            "type": "pie"
           }
          ],
          "scatter": [
           {
            "fillpattern": {
             "fillmode": "overlay",
             "size": 10,
             "solidity": 0.2
            },
            "type": "scatter"
           }
          ],
          "scatter3d": [
           {
            "line": {
             "colorbar": {
              "outlinewidth": 0,
              "ticks": ""
             }
            },
            "marker": {
             "colorbar": {
              "outlinewidth": 0,
              "ticks": ""
             }
            },
            "type": "scatter3d"
           }
          ],
          "scattercarpet": [
           {
            "marker": {
             "colorbar": {
              "outlinewidth": 0,
              "ticks": ""
             }
            },
            "type": "scattercarpet"
           }
          ],
          "scattergeo": [
           {
            "marker": {
             "colorbar": {
              "outlinewidth": 0,
              "ticks": ""
             }
            },
            "type": "scattergeo"
           }
          ],
          "scattergl": [
           {
            "marker": {
             "colorbar": {
              "outlinewidth": 0,
              "ticks": ""
             }
            },
            "type": "scattergl"
           }
          ],
          "scattermapbox": [
           {
            "marker": {
             "colorbar": {
              "outlinewidth": 0,
              "ticks": ""
             }
            },
            "type": "scattermapbox"
           }
          ],
          "scatterpolar": [
           {
            "marker": {
             "colorbar": {
              "outlinewidth": 0,
              "ticks": ""
             }
            },
            "type": "scatterpolar"
           }
          ],
          "scatterpolargl": [
           {
            "marker": {
             "colorbar": {
              "outlinewidth": 0,
              "ticks": ""
             }
            },
            "type": "scatterpolargl"
           }
          ],
          "scatterternary": [
           {
            "marker": {
             "colorbar": {
              "outlinewidth": 0,
              "ticks": ""
             }
            },
            "type": "scatterternary"
           }
          ],
          "surface": [
           {
            "colorbar": {
             "outlinewidth": 0,
             "ticks": ""
            },
            "colorscale": [
             [
              0,
              "#0d0887"
             ],
             [
              0.1111111111111111,
              "#46039f"
             ],
             [
              0.2222222222222222,
              "#7201a8"
             ],
             [
              0.3333333333333333,
              "#9c179e"
             ],
             [
              0.4444444444444444,
              "#bd3786"
             ],
             [
              0.5555555555555556,
              "#d8576b"
             ],
             [
              0.6666666666666666,
              "#ed7953"
             ],
             [
              0.7777777777777778,
              "#fb9f3a"
             ],
             [
              0.8888888888888888,
              "#fdca26"
             ],
             [
              1,
              "#f0f921"
             ]
            ],
            "type": "surface"
           }
          ],
          "table": [
           {
            "cells": {
             "fill": {
              "color": "#EBF0F8"
             },
             "line": {
              "color": "white"
             }
            },
            "header": {
             "fill": {
              "color": "#C8D4E3"
             },
             "line": {
              "color": "white"
             }
            },
            "type": "table"
           }
          ]
         },
         "layout": {
          "annotationdefaults": {
           "arrowcolor": "#2a3f5f",
           "arrowhead": 0,
           "arrowwidth": 1
          },
          "autotypenumbers": "strict",
          "coloraxis": {
           "colorbar": {
            "outlinewidth": 0,
            "ticks": ""
           }
          },
          "colorscale": {
           "diverging": [
            [
             0,
             "#8e0152"
            ],
            [
             0.1,
             "#c51b7d"
            ],
            [
             0.2,
             "#de77ae"
            ],
            [
             0.3,
             "#f1b6da"
            ],
            [
             0.4,
             "#fde0ef"
            ],
            [
             0.5,
             "#f7f7f7"
            ],
            [
             0.6,
             "#e6f5d0"
            ],
            [
             0.7,
             "#b8e186"
            ],
            [
             0.8,
             "#7fbc41"
            ],
            [
             0.9,
             "#4d9221"
            ],
            [
             1,
             "#276419"
            ]
           ],
           "sequential": [
            [
             0,
             "#0d0887"
            ],
            [
             0.1111111111111111,
             "#46039f"
            ],
            [
             0.2222222222222222,
             "#7201a8"
            ],
            [
             0.3333333333333333,
             "#9c179e"
            ],
            [
             0.4444444444444444,
             "#bd3786"
            ],
            [
             0.5555555555555556,
             "#d8576b"
            ],
            [
             0.6666666666666666,
             "#ed7953"
            ],
            [
             0.7777777777777778,
             "#fb9f3a"
            ],
            [
             0.8888888888888888,
             "#fdca26"
            ],
            [
             1,
             "#f0f921"
            ]
           ],
           "sequentialminus": [
            [
             0,
             "#0d0887"
            ],
            [
             0.1111111111111111,
             "#46039f"
            ],
            [
             0.2222222222222222,
             "#7201a8"
            ],
            [
             0.3333333333333333,
             "#9c179e"
            ],
            [
             0.4444444444444444,
             "#bd3786"
            ],
            [
             0.5555555555555556,
             "#d8576b"
            ],
            [
             0.6666666666666666,
             "#ed7953"
            ],
            [
             0.7777777777777778,
             "#fb9f3a"
            ],
            [
             0.8888888888888888,
             "#fdca26"
            ],
            [
             1,
             "#f0f921"
            ]
           ]
          },
          "colorway": [
           "#636efa",
           "#EF553B",
           "#00cc96",
           "#ab63fa",
           "#FFA15A",
           "#19d3f3",
           "#FF6692",
           "#B6E880",
           "#FF97FF",
           "#FECB52"
          ],
          "font": {
           "color": "#2a3f5f"
          },
          "geo": {
           "bgcolor": "white",
           "lakecolor": "white",
           "landcolor": "#E5ECF6",
           "showlakes": true,
           "showland": true,
           "subunitcolor": "white"
          },
          "hoverlabel": {
           "align": "left"
          },
          "hovermode": "closest",
          "mapbox": {
           "style": "light"
          },
          "paper_bgcolor": "white",
          "plot_bgcolor": "#E5ECF6",
          "polar": {
           "angularaxis": {
            "gridcolor": "white",
            "linecolor": "white",
            "ticks": ""
           },
           "bgcolor": "#E5ECF6",
           "radialaxis": {
            "gridcolor": "white",
            "linecolor": "white",
            "ticks": ""
           }
          },
          "scene": {
           "xaxis": {
            "backgroundcolor": "#E5ECF6",
            "gridcolor": "white",
            "gridwidth": 2,
            "linecolor": "white",
            "showbackground": true,
            "ticks": "",
            "zerolinecolor": "white"
           },
           "yaxis": {
            "backgroundcolor": "#E5ECF6",
            "gridcolor": "white",
            "gridwidth": 2,
            "linecolor": "white",
            "showbackground": true,
            "ticks": "",
            "zerolinecolor": "white"
           },
           "zaxis": {
            "backgroundcolor": "#E5ECF6",
            "gridcolor": "white",
            "gridwidth": 2,
            "linecolor": "white",
            "showbackground": true,
            "ticks": "",
            "zerolinecolor": "white"
           }
          },
          "shapedefaults": {
           "line": {
            "color": "#2a3f5f"
           }
          },
          "ternary": {
           "aaxis": {
            "gridcolor": "white",
            "linecolor": "white",
            "ticks": ""
           },
           "baxis": {
            "gridcolor": "white",
            "linecolor": "white",
            "ticks": ""
           },
           "bgcolor": "#E5ECF6",
           "caxis": {
            "gridcolor": "white",
            "linecolor": "white",
            "ticks": ""
           }
          },
          "title": {
           "x": 0.05
          },
          "xaxis": {
           "automargin": true,
           "gridcolor": "white",
           "linecolor": "white",
           "ticks": "",
           "title": {
            "standoff": 15
           },
           "zerolinecolor": "white",
           "zerolinewidth": 2
          },
          "yaxis": {
           "automargin": true,
           "gridcolor": "white",
           "linecolor": "white",
           "ticks": "",
           "title": {
            "standoff": 15
           },
           "zerolinecolor": "white",
           "zerolinewidth": 2
          }
         }
        },
        "title": {
         "text": "Number of Recent Videos per Channel"
        },
        "width": 900,
        "xaxis": {
         "anchor": "y",
         "autorange": true,
         "domain": [
          0,
          1
         ],
         "range": [
          -0.5,
          14.5
         ],
         "title": {
          "text": "channel_title"
         },
         "type": "category"
        },
        "yaxis": {
         "anchor": "x",
         "autorange": true,
         "domain": [
          0,
          1
         ],
         "range": [
          0,
          52.631578947368425
         ],
         "title": {
          "text": "Number of Videos"
         },
         "type": "linear"
        }
       }
      },
      "image/png": "[encoded data removed]",
      "text/html": [
       "<div>                            <div id=\"7b321e08-c484-466d-9cee-7b5e306584d2\" class=\"plotly-graph-div\" style=\"height:600px; width:900px;\"></div>            <script type=\"text/javascript\">                require([\"plotly\"], function(Plotly) {                    window.PLOTLYENV=window.PLOTLYENV || {};                                    if (document.getElementById(\"7b321e08-c484-466d-9cee-7b5e306584d2\")) {                    Plotly.newPlot(                        \"7b321e08-c484-466d-9cee-7b5e306584d2\",                        [{\"alignmentgroup\":\"True\",\"hovertemplate\":\"channel_title=%{x}\\u003cbr\\u003eNumber of Videos=%{y}\\u003cextra\\u003e\\u003c\\u002fextra\\u003e\",\"legendgroup\":\"\",\"marker\":{\"color\":\"#636efa\",\"pattern\":{\"shape\":\"\"}},\"name\":\"\",\"offsetgroup\":\"\",\"orientation\":\"v\",\"showlegend\":false,\"textposition\":\"auto\",\"x\":[\"Emily Mariko\",\"HJ Evelyn\",\"Sanne Vloet\",\"ur mom ashley\",\"Clara Peirce\",\"Shanrell\\u2019s Stash\",\"sophdoeslife\",\"Est\\u00e9e Lalonde\",\"Lindsey Munette\",\"Briddy\",\"Claudia Walsh\",\"Claudia Sulewski\",\"Emma Rose L\\u00e9ger\",\"Mariella\",\"DEE DOLLAR\\ud83d\\udcb0\"],\"xaxis\":\"x\",\"y\":[50,49,46,35,32,31,29,28,24,15,11,8,6,4,2],\"yaxis\":\"y\",\"type\":\"bar\"}],                        {\"template\":{\"data\":{\"histogram2dcontour\":[{\"type\":\"histogram2dcontour\",\"colorbar\":{\"outlinewidth\":0,\"ticks\":\"\"},\"colorscale\":[[0.0,\"#0d0887\"],[0.1111111111111111,\"#46039f\"],[0.2222222222222222,\"#7201a8\"],[0.3333333333333333,\"#9c179e\"],[0.4444444444444444,\"#bd3786\"],[0.5555555555555556,\"#d8576b\"],[0.6666666666666666,\"#ed7953\"],[0.7777777777777778,\"#fb9f3a\"],[0.8888888888888888,\"#fdca26\"],[1.0,\"#f0f921\"]]}],\"choropleth\":[{\"type\":\"choropleth\",\"colorbar\":{\"outlinewidth\":0,\"ticks\":\"\"}}],\"histogram2d\":[{\"type\":\"histogram2d\",\"colorbar\":{\"outlinewidth\":0,\"ticks\":\"\"},\"colorscale\":[[0.0,\"#0d0887\"],[0.1111111111111111,\"#46039f\"],[0.2222222222222222,\"#7201a8\"],[0.3333333333333333,\"#9c179e\"],[0.4444444444444444,\"#bd3786\"],[0.5555555555555556,\"#d8576b\"],[0.6666666666666666,\"#ed7953\"],[0.7777777777777778,\"#fb9f3a\"],[0.8888888888888888,\"#fdca26\"],[1.0,\"#f0f921\"]]}],\"heatmap\":[{\"type\":\"heatmap\",\"colorbar\":{\"outlinewidth\":0,\"ticks\":\"\"},\"colorscale\":[[0.0,\"#0d0887\"],[0.1111111111111111,\"#46039f\"],[0.2222222222222222,\"#7201a8\"],[0.3333333333333333,\"#9c179e\"],[0.4444444444444444,\"#bd3786\"],[0.5555555555555556,\"#d8576b\"],[0.6666666666666666,\"#ed7953\"],[0.7777777777777778,\"#fb9f3a\"],[0.8888888888888888,\"#fdca26\"],[1.0,\"#f0f921\"]]}],\"heatmapgl\":[{\"type\":\"heatmapgl\",\"colorbar\":{\"outlinewidth\":0,\"ticks\":\"\"},\"colorscale\":[[0.0,\"#0d0887\"],[0.1111111111111111,\"#46039f\"],[0.2222222222222222,\"#7201a8\"],[0.3333333333333333,\"#9c179e\"],[0.4444444444444444,\"#bd3786\"],[0.5555555555555556,\"#d8576b\"],[0.6666666666666666,\"#ed7953\"],[0.7777777777777778,\"#fb9f3a\"],[0.8888888888888888,\"#fdca26\"],[1.0,\"#f0f921\"]]}],\"contourcarpet\":[{\"type\":\"contourcarpet\",\"colorbar\":{\"outlinewidth\":0,\"ticks\":\"\"}}],\"contour\":[{\"type\":\"contour\",\"colorbar\":{\"outlinewidth\":0,\"ticks\":\"\"},\"colorscale\":[[0.0,\"#0d0887\"],[0.1111111111111111,\"#46039f\"],[0.2222222222222222,\"#7201a8\"],[0.3333333333333333,\"#9c179e\"],[0.4444444444444444,\"#bd3786\"],[0.5555555555555556,\"#d8576b\"],[0.6666666666666666,\"#ed7953\"],[0.7777777777777778,\"#fb9f3a\"],[0.8888888888888888,\"#fdca26\"],[1.0,\"#f0f921\"]]}],\"surface\":[{\"type\":\"surface\",\"colorbar\":{\"outlinewidth\":0,\"ticks\":\"\"},\"colorscale\":[[0.0,\"#0d0887\"],[0.1111111111111111,\"#46039f\"],[0.2222222222222222,\"#7201a8\"],[0.3333333333333333,\"#9c179e\"],[0.4444444444444444,\"#bd3786\"],[0.5555555555555556,\"#d8576b\"],[0.6666666666666666,\"#ed7953\"],[0.7777777777777778,\"#fb9f3a\"],[0.8888888888888888,\"#fdca26\"],[1.0,\"#f0f921\"]]}],\"mesh3d\":[{\"type\":\"mesh3d\",\"colorbar\":{\"outlinewidth\":0,\"ticks\":\"\"}}],\"scatter\":[{\"fillpattern\":{\"fillmode\":\"overlay\",\"size\":10,\"solidity\":0.2},\"type\":\"scatter\"}],\"parcoords\":[{\"type\":\"parcoords\",\"line\":{\"colorbar\":{\"outlinewidth\":0,\"ticks\":\"\"}}}],\"scatterpolargl\":[{\"type\":\"scatterpolargl\",\"marker\":{\"colorbar\":{\"outlinewidth\":0,\"ticks\":\"\"}}}],\"bar\":[{\"error_x\":{\"color\":\"#2a3f5f\"},\"error_y\":{\"color\":\"#2a3f5f\"},\"marker\":{\"line\":{\"color\":\"#E5ECF6\",\"width\":0.5},\"pattern\":{\"fillmode\":\"overlay\",\"size\":10,\"solidity\":0.2}},\"type\":\"bar\"}],\"scattergeo\":[{\"type\":\"scattergeo\",\"marker\":{\"colorbar\":{\"outlinewidth\":0,\"ticks\":\"\"}}}],\"scatterpolar\":[{\"type\":\"scatterpolar\",\"marker\":{\"colorbar\":{\"outlinewidth\":0,\"ticks\":\"\"}}}],\"histogram\":[{\"marker\":{\"pattern\":{\"fillmode\":\"overlay\",\"size\":10,\"solidity\":0.2}},\"type\":\"histogram\"}],\"scattergl\":[{\"type\":\"scattergl\",\"marker\":{\"colorbar\":{\"outlinewidth\":0,\"ticks\":\"\"}}}],\"scatter3d\":[{\"type\":\"scatter3d\",\"line\":{\"colorbar\":{\"outlinewidth\":0,\"ticks\":\"\"}},\"marker\":{\"colorbar\":{\"outlinewidth\":0,\"ticks\":\"\"}}}],\"scattermapbox\":[{\"type\":\"scattermapbox\",\"marker\":{\"colorbar\":{\"outlinewidth\":0,\"ticks\":\"\"}}}],\"scatterternary\":[{\"type\":\"scatterternary\",\"marker\":{\"colorbar\":{\"outlinewidth\":0,\"ticks\":\"\"}}}],\"scattercarpet\":[{\"type\":\"scattercarpet\",\"marker\":{\"colorbar\":{\"outlinewidth\":0,\"ticks\":\"\"}}}],\"carpet\":[{\"aaxis\":{\"endlinecolor\":\"#2a3f5f\",\"gridcolor\":\"white\",\"linecolor\":\"white\",\"minorgridcolor\":\"white\",\"startlinecolor\":\"#2a3f5f\"},\"baxis\":{\"endlinecolor\":\"#2a3f5f\",\"gridcolor\":\"white\",\"linecolor\":\"white\",\"minorgridcolor\":\"white\",\"startlinecolor\":\"#2a3f5f\"},\"type\":\"carpet\"}],\"table\":[{\"cells\":{\"fill\":{\"color\":\"#EBF0F8\"},\"line\":{\"color\":\"white\"}},\"header\":{\"fill\":{\"color\":\"#C8D4E3\"},\"line\":{\"color\":\"white\"}},\"type\":\"table\"}],\"barpolar\":[{\"marker\":{\"line\":{\"color\":\"#E5ECF6\",\"width\":0.5},\"pattern\":{\"fillmode\":\"overlay\",\"size\":10,\"solidity\":0.2}},\"type\":\"barpolar\"}],\"pie\":[{\"automargin\":true,\"type\":\"pie\"}]},\"layout\":{\"autotypenumbers\":\"strict\",\"colorway\":[\"#636efa\",\"#EF553B\",\"#00cc96\",\"#ab63fa\",\"#FFA15A\",\"#19d3f3\",\"#FF6692\",\"#B6E880\",\"#FF97FF\",\"#FECB52\"],\"font\":{\"color\":\"#2a3f5f\"},\"hovermode\":\"closest\",\"hoverlabel\":{\"align\":\"left\"},\"paper_bgcolor\":\"white\",\"plot_bgcolor\":\"#E5ECF6\",\"polar\":{\"bgcolor\":\"#E5ECF6\",\"angularaxis\":{\"gridcolor\":\"white\",\"linecolor\":\"white\",\"ticks\":\"\"},\"radialaxis\":{\"gridcolor\":\"white\",\"linecolor\":\"white\",\"ticks\":\"\"}},\"ternary\":{\"bgcolor\":\"#E5ECF6\",\"aaxis\":{\"gridcolor\":\"white\",\"linecolor\":\"white\",\"ticks\":\"\"},\"baxis\":{\"gridcolor\":\"white\",\"linecolor\":\"white\",\"ticks\":\"\"},\"caxis\":{\"gridcolor\":\"white\",\"linecolor\":\"white\",\"ticks\":\"\"}},\"coloraxis\":{\"colorbar\":{\"outlinewidth\":0,\"ticks\":\"\"}},\"colorscale\":{\"sequential\":[[0.0,\"#0d0887\"],[0.1111111111111111,\"#46039f\"],[0.2222222222222222,\"#7201a8\"],[0.3333333333333333,\"#9c179e\"],[0.4444444444444444,\"#bd3786\"],[0.5555555555555556,\"#d8576b\"],[0.6666666666666666,\"#ed7953\"],[0.7777777777777778,\"#fb9f3a\"],[0.8888888888888888,\"#fdca26\"],[1.0,\"#f0f921\"]],\"sequentialminus\":[[0.0,\"#0d0887\"],[0.1111111111111111,\"#46039f\"],[0.2222222222222222,\"#7201a8\"],[0.3333333333333333,\"#9c179e\"],[0.4444444444444444,\"#bd3786\"],[0.5555555555555556,\"#d8576b\"],[0.6666666666666666,\"#ed7953\"],[0.7777777777777778,\"#fb9f3a\"],[0.8888888888888888,\"#fdca26\"],[1.0,\"#f0f921\"]],\"diverging\":[[0,\"#8e0152\"],[0.1,\"#c51b7d\"],[0.2,\"#de77ae\"],[0.3,\"#f1b6da\"],[0.4,\"#fde0ef\"],[0.5,\"#f7f7f7\"],[0.6,\"#e6f5d0\"],[0.7,\"#b8e186\"],[0.8,\"#7fbc41\"],[0.9,\"#4d9221\"],[1,\"#276419\"]]},\"xaxis\":{\"gridcolor\":\"white\",\"linecolor\":\"white\",\"ticks\":\"\",\"title\":{\"standoff\":15},\"zerolinecolor\":\"white\",\"automargin\":true,\"zerolinewidth\":2},\"yaxis\":{\"gridcolor\":\"white\",\"linecolor\":\"white\",\"ticks\":\"\",\"title\":{\"standoff\":15},\"zerolinecolor\":\"white\",\"automargin\":true,\"zerolinewidth\":2},\"scene\":{\"xaxis\":{\"backgroundcolor\":\"#E5ECF6\",\"gridcolor\":\"white\",\"linecolor\":\"white\",\"showbackground\":true,\"ticks\":\"\",\"zerolinecolor\":\"white\",\"gridwidth\":2},\"yaxis\":{\"backgroundcolor\":\"#E5ECF6\",\"gridcolor\":\"white\",\"linecolor\":\"white\",\"showbackground\":true,\"ticks\":\"\",\"zerolinecolor\":\"white\",\"gridwidth\":2},\"zaxis\":{\"backgroundcolor\":\"#E5ECF6\",\"gridcolor\":\"white\",\"linecolor\":\"white\",\"showbackground\":true,\"ticks\":\"\",\"zerolinecolor\":\"white\",\"gridwidth\":2}},\"shapedefaults\":{\"line\":{\"color\":\"#2a3f5f\"}},\"annotationdefaults\":{\"arrowcolor\":\"#2a3f5f\",\"arrowhead\":0,\"arrowwidth\":1},\"geo\":{\"bgcolor\":\"white\",\"landcolor\":\"#E5ECF6\",\"subunitcolor\":\"white\",\"showland\":true,\"showlakes\":true,\"lakecolor\":\"white\"},\"title\":{\"x\":0.05},\"mapbox\":{\"style\":\"light\"}}},\"xaxis\":{\"anchor\":\"y\",\"domain\":[0.0,1.0],\"title\":{\"text\":\"channel_title\"}},\"yaxis\":{\"anchor\":\"x\",\"domain\":[0.0,1.0],\"title\":{\"text\":\"Number of Videos\"}},\"legend\":{\"tracegroupgap\":0},\"title\":{\"text\":\"Number of Recent Videos per Channel\"},\"barmode\":\"relative\",\"width\":900,\"height\":600},                        {\"responsive\": true}                    ).then(function(){\n",
       "                            \n",
       "var gd = document.getElementById('7b321e08-c484-466d-9cee-7b5e306584d2');\n",
       "var x = new MutationObserver(function (mutations, observer) {{\n",
       "        var display = window.getComputedStyle(gd).display;\n",
       "        if (!display || display === 'none') {{\n",
       "            console.log([gd, 'removed!']);\n",
       "            Plotly.purge(gd);\n",
       "            observer.disconnect();\n",
       "        }}\n",
       "}});\n",
       "\n",
       "// Listen for the removal of the full notebook cells\n",
       "var notebookContainer = gd.closest('#notebook-container');\n",
       "if (notebookContainer) {{\n",
       "    x.observe(notebookContainer, {childList: true});\n",
       "}}\n",
       "\n",
       "// Listen for the clearing of the current output cell\n",
       "var outputEl = gd.closest('.output');\n",
       "if (outputEl) {{\n",
       "    x.observe(outputEl, {childList: true});\n",
       "}}\n",
       "\n",
       "                        })                };                });            </script>        </div>"
      ]
     },
     "metadata": {},
     "output_type": "display_data"
    }
   ],
   "source": [
    "channel_counts = video_df['channel_id'].value_counts().reset_index()\n",
    "channel_counts.columns = ['channel_id', 'video_count']\n",
    "\n",
    "channel_info = df[['channel_id', 'channel_title']]\n",
    "merged = pd.merge(channel_counts, channel_info, on='channel_id')\n",
    "\n",
    "fig = px.bar(merged, x='channel_title', y='video_count',\n",
    "             title=\"Number of Recent Videos per Channel\",\n",
    "             labels={'video_count': 'Number of Videos'})\n",
    "fig.update_layout(width=900, height=600)\n",
    "fig.show()"
   ]
  },
  {
   "cell_type": "code",
   "execution_count": 32,
   "id": "72c3f162-f8ef-401e-b182-8f483cd89442",
   "metadata": {},
   "outputs": [
    {
     "data": {
      "application/vnd.plotly.v1+json": {
       "config": {
        "plotlyServerURL": "https://plot.ly"
       },
       "data": [
        {
         "alignmentgroup": "True",
         "bingroup": "x",
         "hovertemplate": "Title Length (characters)=%{x}<br>count=%{y}<extra></extra>",
         "legendgroup": "",
         "marker": {
          "color": "#2e2e2e",
          "pattern": {
           "shape": ""
          }
         },
         "name": "",
         "nbinsx": 30,
         "offsetgroup": "",
         "orientation": "v",
         "showlegend": false,
         "type": "histogram",
         "x": [
          92,
          78,
          99,
          92,
          71,
          103,
          108,
          104,
          76,
          80,
          100,
          100,
          92,
          87,
          76,
          28,
          77,
          28,
          95,
          34,
          12,
          51,
          39,
          84,
          91,
          66,
          76,
          49,
          67,
          74,
          73,
          77,
          36,
          86,
          67,
          31,
          39,
          87,
          81,
          82,
          65,
          72,
          25,
          29,
          70,
          71,
          74,
          37,
          42,
          35,
          74,
          25,
          30,
          44,
          27,
          87,
          43,
          22,
          37,
          24,
          39,
          15,
          24,
          32,
          24,
          34,
          50,
          23,
          80,
          27,
          34,
          33,
          43,
          31,
          90,
          22,
          37,
          43,
          16,
          60,
          26,
          18,
          35,
          35,
          44,
          65,
          53,
          23,
          49,
          36,
          55,
          67,
          41,
          58,
          40,
          49,
          64,
          82,
          89,
          88,
          66,
          93,
          64,
          91,
          82,
          99,
          69,
          66,
          64,
          98,
          47,
          75,
          14,
          93,
          96,
          87,
          56,
          83,
          75,
          82,
          94,
          92,
          77,
          67,
          60,
          24,
          75,
          54,
          24,
          24,
          10,
          8,
          24,
          95,
          94,
          16,
          65,
          85,
          97,
          51,
          84,
          61,
          99,
          81,
          47,
          96,
          94,
          81,
          71,
          100,
          95,
          40,
          99,
          89,
          92,
          46,
          46,
          23,
          70,
          93,
          54,
          57,
          53,
          81,
          52,
          26,
          57,
          56,
          85,
          42,
          36,
          52,
          41,
          44,
          57,
          67,
          52,
          39,
          56,
          92,
          77,
          46,
          48,
          37,
          53,
          67,
          46,
          50,
          50,
          59,
          59,
          51,
          54,
          65,
          42,
          58,
          22,
          17,
          36,
          57,
          7,
          23,
          28,
          19,
          20,
          49,
          25,
          75,
          26,
          19,
          59,
          33,
          55,
          25,
          21,
          22,
          87,
          21,
          17,
          59,
          18,
          23,
          21,
          19,
          60,
          33,
          68,
          61,
          27,
          62,
          43,
          81,
          45,
          66,
          45,
          74,
          49,
          57,
          46,
          62,
          60,
          74,
          77,
          81,
          62,
          69,
          74,
          95,
          20,
          18,
          76,
          86,
          40,
          60,
          56,
          56,
          94,
          94,
          49,
          57,
          98,
          98,
          61,
          61,
          60,
          30,
          38,
          54,
          61,
          35,
          37,
          45,
          35,
          52,
          47,
          37,
          44,
          63,
          28,
          23,
          49,
          43,
          40,
          19,
          58,
          45,
          45,
          31,
          41,
          37,
          74,
          36,
          33,
          47,
          45,
          37,
          36,
          36,
          66,
          31,
          95,
          51,
          23,
          34,
          45,
          61,
          43,
          56,
          33,
          36,
          17,
          49,
          40,
          23,
          18,
          6,
          13,
          9,
          8,
          18,
          20,
          5,
          12,
          21,
          19,
          9,
          13,
          17,
          20,
          17,
          23,
          11,
          19,
          14,
          18,
          21,
          81,
          17,
          6,
          19,
          17,
          12,
          10,
          15,
          7,
          10,
          13,
          18,
          15,
          18,
          4,
          11,
          16,
          12,
          29,
          10,
          9,
          20,
          19,
          27,
          11,
          12,
          11,
          11,
          62,
          47,
          49,
          31,
          31,
          65
         ],
         "xaxis": "x",
         "yaxis": "y"
        }
       ],
       "layout": {
        "annotations": [
         {
          "font": {
           "color": "red"
          },
          "showarrow": false,
          "text": "Median: 47",
          "x": 47,
          "xanchor": "left",
          "xref": "x",
          "y": 1,
          "yanchor": "top",
          "yref": "y domain"
         }
        ],
        "barmode": "relative",
        "height": 600,
        "legend": {
         "tracegroupgap": 0
        },
        "shapes": [
         {
          "line": {
           "color": "red",
           "width": 2
          },
          "type": "line",
          "x0": 47,
          "x1": 47,
          "xref": "x",
          "y0": 0,
          "y1": 1,
          "yref": "y domain"
         }
        ],
        "template": {
         "data": {
          "bar": [
           {
            "error_x": {
             "color": "#2a3f5f"
            },
            "error_y": {
             "color": "#2a3f5f"
            },
            "marker": {
             "line": {
              "color": "#E5ECF6",
              "width": 0.5
             },
             "pattern": {
              "fillmode": "overlay",
              "size": 10,
              "solidity": 0.2
             }
            },
            "type": "bar"
           }
          ],
          "barpolar": [
           {
            "marker": {
             "line": {
              "color": "#E5ECF6",
              "width": 0.5
             },
             "pattern": {
              "fillmode": "overlay",
              "size": 10,
              "solidity": 0.2
             }
            },
            "type": "barpolar"
           }
          ],
          "carpet": [
           {
            "aaxis": {
             "endlinecolor": "#2a3f5f",
             "gridcolor": "white",
             "linecolor": "white",
             "minorgridcolor": "white",
             "startlinecolor": "#2a3f5f"
            },
            "baxis": {
             "endlinecolor": "#2a3f5f",
             "gridcolor": "white",
             "linecolor": "white",
             "minorgridcolor": "white",
             "startlinecolor": "#2a3f5f"
            },
            "type": "carpet"
           }
          ],
          "choropleth": [
           {
            "colorbar": {
             "outlinewidth": 0,
             "ticks": ""
            },
            "type": "choropleth"
           }
          ],
          "contour": [
           {
            "colorbar": {
             "outlinewidth": 0,
             "ticks": ""
            },
            "colorscale": [
             [
              0,
              "#0d0887"
             ],
             [
              0.1111111111111111,
              "#46039f"
             ],
             [
              0.2222222222222222,
              "#7201a8"
             ],
             [
              0.3333333333333333,
              "#9c179e"
             ],
             [
              0.4444444444444444,
              "#bd3786"
             ],
             [
              0.5555555555555556,
              "#d8576b"
             ],
             [
              0.6666666666666666,
              "#ed7953"
             ],
             [
              0.7777777777777778,
              "#fb9f3a"
             ],
             [
              0.8888888888888888,
              "#fdca26"
             ],
             [
              1,
              "#f0f921"
             ]
            ],
            "type": "contour"
           }
          ],
          "contourcarpet": [
           {
            "colorbar": {
             "outlinewidth": 0,
             "ticks": ""
            },
            "type": "contourcarpet"
           }
          ],
          "heatmap": [
           {
            "colorbar": {
             "outlinewidth": 0,
             "ticks": ""
            },
            "colorscale": [
             [
              0,
              "#0d0887"
             ],
             [
              0.1111111111111111,
              "#46039f"
             ],
             [
              0.2222222222222222,
              "#7201a8"
             ],
             [
              0.3333333333333333,
              "#9c179e"
             ],
             [
              0.4444444444444444,
              "#bd3786"
             ],
             [
              0.5555555555555556,
              "#d8576b"
             ],
             [
              0.6666666666666666,
              "#ed7953"
             ],
             [
              0.7777777777777778,
              "#fb9f3a"
             ],
             [
              0.8888888888888888,
              "#fdca26"
             ],
             [
              1,
              "#f0f921"
             ]
            ],
            "type": "heatmap"
           }
          ],
          "heatmapgl": [
           {
            "colorbar": {
             "outlinewidth": 0,
             "ticks": ""
            },
            "colorscale": [
             [
              0,
              "#0d0887"
             ],
             [
              0.1111111111111111,
              "#46039f"
             ],
             [
              0.2222222222222222,
              "#7201a8"
             ],
             [
              0.3333333333333333,
              "#9c179e"
             ],
             [
              0.4444444444444444,
              "#bd3786"
             ],
             [
              0.5555555555555556,
              "#d8576b"
             ],
             [
              0.6666666666666666,
              "#ed7953"
             ],
             [
              0.7777777777777778,
              "#fb9f3a"
             ],
             [
              0.8888888888888888,
              "#fdca26"
             ],
             [
              1,
              "#f0f921"
             ]
            ],
            "type": "heatmapgl"
           }
          ],
          "histogram": [
           {
            "marker": {
             "pattern": {
              "fillmode": "overlay",
              "size": 10,
              "solidity": 0.2
             }
            },
            "type": "histogram"
           }
          ],
          "histogram2d": [
           {
            "colorbar": {
             "outlinewidth": 0,
             "ticks": ""
            },
            "colorscale": [
             [
              0,
              "#0d0887"
             ],
             [
              0.1111111111111111,
              "#46039f"
             ],
             [
              0.2222222222222222,
              "#7201a8"
             ],
             [
              0.3333333333333333,
              "#9c179e"
             ],
             [
              0.4444444444444444,
              "#bd3786"
             ],
             [
              0.5555555555555556,
              "#d8576b"
             ],
             [
              0.6666666666666666,
              "#ed7953"
             ],
             [
              0.7777777777777778,
              "#fb9f3a"
             ],
             [
              0.8888888888888888,
              "#fdca26"
             ],
             [
              1,
              "#f0f921"
             ]
            ],
            "type": "histogram2d"
           }
          ],
          "histogram2dcontour": [
           {
            "colorbar": {
             "outlinewidth": 0,
             "ticks": ""
            },
            "colorscale": [
             [
              0,
              "#0d0887"
             ],
             [
              0.1111111111111111,
              "#46039f"
             ],
             [
              0.2222222222222222,
              "#7201a8"
             ],
             [
              0.3333333333333333,
              "#9c179e"
             ],
             [
              0.4444444444444444,
              "#bd3786"
             ],
             [
              0.5555555555555556,
              "#d8576b"
             ],
             [
              0.6666666666666666,
              "#ed7953"
             ],
             [
              0.7777777777777778,
              "#fb9f3a"
             ],
             [
              0.8888888888888888,
              "#fdca26"
             ],
             [
              1,
              "#f0f921"
             ]
            ],
            "type": "histogram2dcontour"
           }
          ],
          "mesh3d": [
           {
            "colorbar": {
             "outlinewidth": 0,
             "ticks": ""
            },
            "type": "mesh3d"
           }
          ],
          "parcoords": [
           {
            "line": {
             "colorbar": {
              "outlinewidth": 0,
              "ticks": ""
             }
            },
            "type": "parcoords"
           }
          ],
          "pie": [
           {
            "automargin": true,
            "type": "pie"
           }
          ],
          "scatter": [
           {
            "fillpattern": {
             "fillmode": "overlay",
             "size": 10,
             "solidity": 0.2
            },
            "type": "scatter"
           }
          ],
          "scatter3d": [
           {
            "line": {
             "colorbar": {
              "outlinewidth": 0,
              "ticks": ""
             }
            },
            "marker": {
             "colorbar": {
              "outlinewidth": 0,
              "ticks": ""
             }
            },
            "type": "scatter3d"
           }
          ],
          "scattercarpet": [
           {
            "marker": {
             "colorbar": {
              "outlinewidth": 0,
              "ticks": ""
             }
            },
            "type": "scattercarpet"
           }
          ],
          "scattergeo": [
           {
            "marker": {
             "colorbar": {
              "outlinewidth": 0,
              "ticks": ""
             }
            },
            "type": "scattergeo"
           }
          ],
          "scattergl": [
           {
            "marker": {
             "colorbar": {
              "outlinewidth": 0,
              "ticks": ""
             }
            },
            "type": "scattergl"
           }
          ],
          "scattermapbox": [
           {
            "marker": {
             "colorbar": {
              "outlinewidth": 0,
              "ticks": ""
             }
            },
            "type": "scattermapbox"
           }
          ],
          "scatterpolar": [
           {
            "marker": {
             "colorbar": {
              "outlinewidth": 0,
              "ticks": ""
             }
            },
            "type": "scatterpolar"
           }
          ],
          "scatterpolargl": [
           {
            "marker": {
             "colorbar": {
              "outlinewidth": 0,
              "ticks": ""
             }
            },
            "type": "scatterpolargl"
           }
          ],
          "scatterternary": [
           {
            "marker": {
             "colorbar": {
              "outlinewidth": 0,
              "ticks": ""
             }
            },
            "type": "scatterternary"
           }
          ],
          "surface": [
           {
            "colorbar": {
             "outlinewidth": 0,
             "ticks": ""
            },
            "colorscale": [
             [
              0,
              "#0d0887"
             ],
             [
              0.1111111111111111,
              "#46039f"
             ],
             [
              0.2222222222222222,
              "#7201a8"
             ],
             [
              0.3333333333333333,
              "#9c179e"
             ],
             [
              0.4444444444444444,
              "#bd3786"
             ],
             [
              0.5555555555555556,
              "#d8576b"
             ],
             [
              0.6666666666666666,
              "#ed7953"
             ],
             [
              0.7777777777777778,
              "#fb9f3a"
             ],
             [
              0.8888888888888888,
              "#fdca26"
             ],
             [
              1,
              "#f0f921"
             ]
            ],
            "type": "surface"
           }
          ],
          "table": [
           {
            "cells": {
             "fill": {
              "color": "#EBF0F8"
             },
             "line": {
              "color": "white"
             }
            },
            "header": {
             "fill": {
              "color": "#C8D4E3"
             },
             "line": {
              "color": "white"
             }
            },
            "type": "table"
           }
          ]
         },
         "layout": {
          "annotationdefaults": {
           "arrowcolor": "#2a3f5f",
           "arrowhead": 0,
           "arrowwidth": 1
          },
          "autotypenumbers": "strict",
          "coloraxis": {
           "colorbar": {
            "outlinewidth": 0,
            "ticks": ""
           }
          },
          "colorscale": {
           "diverging": [
            [
             0,
             "#8e0152"
            ],
            [
             0.1,
             "#c51b7d"
            ],
            [
             0.2,
             "#de77ae"
            ],
            [
             0.3,
             "#f1b6da"
            ],
            [
             0.4,
             "#fde0ef"
            ],
            [
             0.5,
             "#f7f7f7"
            ],
            [
             0.6,
             "#e6f5d0"
            ],
            [
             0.7,
             "#b8e186"
            ],
            [
             0.8,
             "#7fbc41"
            ],
            [
             0.9,
             "#4d9221"
            ],
            [
             1,
             "#276419"
            ]
           ],
           "sequential": [
            [
             0,
             "#0d0887"
            ],
            [
             0.1111111111111111,
             "#46039f"
            ],
            [
             0.2222222222222222,
             "#7201a8"
            ],
            [
             0.3333333333333333,
             "#9c179e"
            ],
            [
             0.4444444444444444,
             "#bd3786"
            ],
            [
             0.5555555555555556,
             "#d8576b"
            ],
            [
             0.6666666666666666,
             "#ed7953"
            ],
            [
             0.7777777777777778,
             "#fb9f3a"
            ],
            [
             0.8888888888888888,
             "#fdca26"
            ],
            [
             1,
             "#f0f921"
            ]
           ],
           "sequentialminus": [
            [
             0,
             "#0d0887"
            ],
            [
             0.1111111111111111,
             "#46039f"
            ],
            [
             0.2222222222222222,
             "#7201a8"
            ],
            [
             0.3333333333333333,
             "#9c179e"
            ],
            [
             0.4444444444444444,
             "#bd3786"
            ],
            [
             0.5555555555555556,
             "#d8576b"
            ],
            [
             0.6666666666666666,
             "#ed7953"
            ],
            [
             0.7777777777777778,
             "#fb9f3a"
            ],
            [
             0.8888888888888888,
             "#fdca26"
            ],
            [
             1,
             "#f0f921"
            ]
           ]
          },
          "colorway": [
           "#636efa",
           "#EF553B",
           "#00cc96",
           "#ab63fa",
           "#FFA15A",
           "#19d3f3",
           "#FF6692",
           "#B6E880",
           "#FF97FF",
           "#FECB52"
          ],
          "font": {
           "color": "#2a3f5f"
          },
          "geo": {
           "bgcolor": "white",
           "lakecolor": "white",
           "landcolor": "#E5ECF6",
           "showlakes": true,
           "showland": true,
           "subunitcolor": "white"
          },
          "hoverlabel": {
           "align": "left"
          },
          "hovermode": "closest",
          "mapbox": {
           "style": "light"
          },
          "paper_bgcolor": "white",
          "plot_bgcolor": "#E5ECF6",
          "polar": {
           "angularaxis": {
            "gridcolor": "white",
            "linecolor": "white",
            "ticks": ""
           },
           "bgcolor": "#E5ECF6",
           "radialaxis": {
            "gridcolor": "white",
            "linecolor": "white",
            "ticks": ""
           }
          },
          "scene": {
           "xaxis": {
            "backgroundcolor": "#E5ECF6",
            "gridcolor": "white",
            "gridwidth": 2,
            "linecolor": "white",
            "showbackground": true,
            "ticks": "",
            "zerolinecolor": "white"
           },
           "yaxis": {
            "backgroundcolor": "#E5ECF6",
            "gridcolor": "white",
            "gridwidth": 2,
            "linecolor": "white",
            "showbackground": true,
            "ticks": "",
            "zerolinecolor": "white"
           },
           "zaxis": {
            "backgroundcolor": "#E5ECF6",
            "gridcolor": "white",
            "gridwidth": 2,
            "linecolor": "white",
            "showbackground": true,
            "ticks": "",
            "zerolinecolor": "white"
           }
          },
          "shapedefaults": {
           "line": {
            "color": "#2a3f5f"
           }
          },
          "ternary": {
           "aaxis": {
            "gridcolor": "white",
            "linecolor": "white",
            "ticks": ""
           },
           "baxis": {
            "gridcolor": "white",
            "linecolor": "white",
            "ticks": ""
           },
           "bgcolor": "#E5ECF6",
           "caxis": {
            "gridcolor": "white",
            "linecolor": "white",
            "ticks": ""
           }
          },
          "title": {
           "x": 0.05
          },
          "xaxis": {
           "automargin": true,
           "gridcolor": "white",
           "linecolor": "white",
           "ticks": "",
           "title": {
            "standoff": 15
           },
           "zerolinecolor": "white",
           "zerolinewidth": 2
          },
          "yaxis": {
           "automargin": true,
           "gridcolor": "white",
           "linecolor": "white",
           "ticks": "",
           "title": {
            "standoff": 15
           },
           "zerolinecolor": "white",
           "zerolinewidth": 2
          }
         }
        },
        "title": {
         "text": "Distribution of Video Title Lengths"
        },
        "width": 900,
        "xaxis": {
         "anchor": "y",
         "autorange": true,
         "domain": [
          0,
          1
         ],
         "range": [
          -0.5,
          109.5
         ],
         "title": {
          "text": "Title Length (characters)"
         },
         "type": "linear"
        },
        "yaxis": {
         "anchor": "x",
         "autorange": true,
         "domain": [
          0,
          1
         ],
         "range": [
          0,
          31.57894736842105
         ],
         "title": {
          "text": "count"
         }
        }
       }
      },
      "image/png": "[encoded data removed]",
      "text/html": [
       "<div>                            <div id=\"2f2db143-ac32-4bc3-8cb0-3c28934d5513\" class=\"plotly-graph-div\" style=\"height:600px; width:900px;\"></div>            <script type=\"text/javascript\">                require([\"plotly\"], function(Plotly) {                    window.PLOTLYENV=window.PLOTLYENV || {};                                    if (document.getElementById(\"2f2db143-ac32-4bc3-8cb0-3c28934d5513\")) {                    Plotly.newPlot(                        \"2f2db143-ac32-4bc3-8cb0-3c28934d5513\",                        [{\"alignmentgroup\":\"True\",\"bingroup\":\"x\",\"hovertemplate\":\"Title Length (characters)=%{x}\\u003cbr\\u003ecount=%{y}\\u003cextra\\u003e\\u003c\\u002fextra\\u003e\",\"legendgroup\":\"\",\"marker\":{\"color\":\"#2e2e2e\",\"pattern\":{\"shape\":\"\"}},\"name\":\"\",\"nbinsx\":30,\"offsetgroup\":\"\",\"orientation\":\"v\",\"showlegend\":false,\"x\":[92,78,99,92,71,103,108,104,76,80,100,100,92,87,76,28,77,28,95,34,12,51,39,84,91,66,76,49,67,74,73,77,36,86,67,31,39,87,81,82,65,72,25,29,70,71,74,37,42,35,74,25,30,44,27,87,43,22,37,24,39,15,24,32,24,34,50,23,80,27,34,33,43,31,90,22,37,43,16,60,26,18,35,35,44,65,53,23,49,36,55,67,41,58,40,49,64,82,89,88,66,93,64,91,82,99,69,66,64,98,47,75,14,93,96,87,56,83,75,82,94,92,77,67,60,24,75,54,24,24,10,8,24,95,94,16,65,85,97,51,84,61,99,81,47,96,94,81,71,100,95,40,99,89,92,46,46,23,70,93,54,57,53,81,52,26,57,56,85,42,36,52,41,44,57,67,52,39,56,92,77,46,48,37,53,67,46,50,50,59,59,51,54,65,42,58,22,17,36,57,7,23,28,19,20,49,25,75,26,19,59,33,55,25,21,22,87,21,17,59,18,23,21,19,60,33,68,61,27,62,43,81,45,66,45,74,49,57,46,62,60,74,77,81,62,69,74,95,20,18,76,86,40,60,56,56,94,94,49,57,98,98,61,61,60,30,38,54,61,35,37,45,35,52,47,37,44,63,28,23,49,43,40,19,58,45,45,31,41,37,74,36,33,47,45,37,36,36,66,31,95,51,23,34,45,61,43,56,33,36,17,49,40,23,18,6,13,9,8,18,20,5,12,21,19,9,13,17,20,17,23,11,19,14,18,21,81,17,6,19,17,12,10,15,7,10,13,18,15,18,4,11,16,12,29,10,9,20,19,27,11,12,11,11,62,47,49,31,31,65],\"xaxis\":\"x\",\"yaxis\":\"y\",\"type\":\"histogram\"}],                        {\"template\":{\"data\":{\"histogram2dcontour\":[{\"type\":\"histogram2dcontour\",\"colorbar\":{\"outlinewidth\":0,\"ticks\":\"\"},\"colorscale\":[[0.0,\"#0d0887\"],[0.1111111111111111,\"#46039f\"],[0.2222222222222222,\"#7201a8\"],[0.3333333333333333,\"#9c179e\"],[0.4444444444444444,\"#bd3786\"],[0.5555555555555556,\"#d8576b\"],[0.6666666666666666,\"#ed7953\"],[0.7777777777777778,\"#fb9f3a\"],[0.8888888888888888,\"#fdca26\"],[1.0,\"#f0f921\"]]}],\"choropleth\":[{\"type\":\"choropleth\",\"colorbar\":{\"outlinewidth\":0,\"ticks\":\"\"}}],\"histogram2d\":[{\"type\":\"histogram2d\",\"colorbar\":{\"outlinewidth\":0,\"ticks\":\"\"},\"colorscale\":[[0.0,\"#0d0887\"],[0.1111111111111111,\"#46039f\"],[0.2222222222222222,\"#7201a8\"],[0.3333333333333333,\"#9c179e\"],[0.4444444444444444,\"#bd3786\"],[0.5555555555555556,\"#d8576b\"],[0.6666666666666666,\"#ed7953\"],[0.7777777777777778,\"#fb9f3a\"],[0.8888888888888888,\"#fdca26\"],[1.0,\"#f0f921\"]]}],\"heatmap\":[{\"type\":\"heatmap\",\"colorbar\":{\"outlinewidth\":0,\"ticks\":\"\"},\"colorscale\":[[0.0,\"#0d0887\"],[0.1111111111111111,\"#46039f\"],[0.2222222222222222,\"#7201a8\"],[0.3333333333333333,\"#9c179e\"],[0.4444444444444444,\"#bd3786\"],[0.5555555555555556,\"#d8576b\"],[0.6666666666666666,\"#ed7953\"],[0.7777777777777778,\"#fb9f3a\"],[0.8888888888888888,\"#fdca26\"],[1.0,\"#f0f921\"]]}],\"heatmapgl\":[{\"type\":\"heatmapgl\",\"colorbar\":{\"outlinewidth\":0,\"ticks\":\"\"},\"colorscale\":[[0.0,\"#0d0887\"],[0.1111111111111111,\"#46039f\"],[0.2222222222222222,\"#7201a8\"],[0.3333333333333333,\"#9c179e\"],[0.4444444444444444,\"#bd3786\"],[0.5555555555555556,\"#d8576b\"],[0.6666666666666666,\"#ed7953\"],[0.7777777777777778,\"#fb9f3a\"],[0.8888888888888888,\"#fdca26\"],[1.0,\"#f0f921\"]]}],\"contourcarpet\":[{\"type\":\"contourcarpet\",\"colorbar\":{\"outlinewidth\":0,\"ticks\":\"\"}}],\"contour\":[{\"type\":\"contour\",\"colorbar\":{\"outlinewidth\":0,\"ticks\":\"\"},\"colorscale\":[[0.0,\"#0d0887\"],[0.1111111111111111,\"#46039f\"],[0.2222222222222222,\"#7201a8\"],[0.3333333333333333,\"#9c179e\"],[0.4444444444444444,\"#bd3786\"],[0.5555555555555556,\"#d8576b\"],[0.6666666666666666,\"#ed7953\"],[0.7777777777777778,\"#fb9f3a\"],[0.8888888888888888,\"#fdca26\"],[1.0,\"#f0f921\"]]}],\"surface\":[{\"type\":\"surface\",\"colorbar\":{\"outlinewidth\":0,\"ticks\":\"\"},\"colorscale\":[[0.0,\"#0d0887\"],[0.1111111111111111,\"#46039f\"],[0.2222222222222222,\"#7201a8\"],[0.3333333333333333,\"#9c179e\"],[0.4444444444444444,\"#bd3786\"],[0.5555555555555556,\"#d8576b\"],[0.6666666666666666,\"#ed7953\"],[0.7777777777777778,\"#fb9f3a\"],[0.8888888888888888,\"#fdca26\"],[1.0,\"#f0f921\"]]}],\"mesh3d\":[{\"type\":\"mesh3d\",\"colorbar\":{\"outlinewidth\":0,\"ticks\":\"\"}}],\"scatter\":[{\"fillpattern\":{\"fillmode\":\"overlay\",\"size\":10,\"solidity\":0.2},\"type\":\"scatter\"}],\"parcoords\":[{\"type\":\"parcoords\",\"line\":{\"colorbar\":{\"outlinewidth\":0,\"ticks\":\"\"}}}],\"scatterpolargl\":[{\"type\":\"scatterpolargl\",\"marker\":{\"colorbar\":{\"outlinewidth\":0,\"ticks\":\"\"}}}],\"bar\":[{\"error_x\":{\"color\":\"#2a3f5f\"},\"error_y\":{\"color\":\"#2a3f5f\"},\"marker\":{\"line\":{\"color\":\"#E5ECF6\",\"width\":0.5},\"pattern\":{\"fillmode\":\"overlay\",\"size\":10,\"solidity\":0.2}},\"type\":\"bar\"}],\"scattergeo\":[{\"type\":\"scattergeo\",\"marker\":{\"colorbar\":{\"outlinewidth\":0,\"ticks\":\"\"}}}],\"scatterpolar\":[{\"type\":\"scatterpolar\",\"marker\":{\"colorbar\":{\"outlinewidth\":0,\"ticks\":\"\"}}}],\"histogram\":[{\"marker\":{\"pattern\":{\"fillmode\":\"overlay\",\"size\":10,\"solidity\":0.2}},\"type\":\"histogram\"}],\"scattergl\":[{\"type\":\"scattergl\",\"marker\":{\"colorbar\":{\"outlinewidth\":0,\"ticks\":\"\"}}}],\"scatter3d\":[{\"type\":\"scatter3d\",\"line\":{\"colorbar\":{\"outlinewidth\":0,\"ticks\":\"\"}},\"marker\":{\"colorbar\":{\"outlinewidth\":0,\"ticks\":\"\"}}}],\"scattermapbox\":[{\"type\":\"scattermapbox\",\"marker\":{\"colorbar\":{\"outlinewidth\":0,\"ticks\":\"\"}}}],\"scatterternary\":[{\"type\":\"scatterternary\",\"marker\":{\"colorbar\":{\"outlinewidth\":0,\"ticks\":\"\"}}}],\"scattercarpet\":[{\"type\":\"scattercarpet\",\"marker\":{\"colorbar\":{\"outlinewidth\":0,\"ticks\":\"\"}}}],\"carpet\":[{\"aaxis\":{\"endlinecolor\":\"#2a3f5f\",\"gridcolor\":\"white\",\"linecolor\":\"white\",\"minorgridcolor\":\"white\",\"startlinecolor\":\"#2a3f5f\"},\"baxis\":{\"endlinecolor\":\"#2a3f5f\",\"gridcolor\":\"white\",\"linecolor\":\"white\",\"minorgridcolor\":\"white\",\"startlinecolor\":\"#2a3f5f\"},\"type\":\"carpet\"}],\"table\":[{\"cells\":{\"fill\":{\"color\":\"#EBF0F8\"},\"line\":{\"color\":\"white\"}},\"header\":{\"fill\":{\"color\":\"#C8D4E3\"},\"line\":{\"color\":\"white\"}},\"type\":\"table\"}],\"barpolar\":[{\"marker\":{\"line\":{\"color\":\"#E5ECF6\",\"width\":0.5},\"pattern\":{\"fillmode\":\"overlay\",\"size\":10,\"solidity\":0.2}},\"type\":\"barpolar\"}],\"pie\":[{\"automargin\":true,\"type\":\"pie\"}]},\"layout\":{\"autotypenumbers\":\"strict\",\"colorway\":[\"#636efa\",\"#EF553B\",\"#00cc96\",\"#ab63fa\",\"#FFA15A\",\"#19d3f3\",\"#FF6692\",\"#B6E880\",\"#FF97FF\",\"#FECB52\"],\"font\":{\"color\":\"#2a3f5f\"},\"hovermode\":\"closest\",\"hoverlabel\":{\"align\":\"left\"},\"paper_bgcolor\":\"white\",\"plot_bgcolor\":\"#E5ECF6\",\"polar\":{\"bgcolor\":\"#E5ECF6\",\"angularaxis\":{\"gridcolor\":\"white\",\"linecolor\":\"white\",\"ticks\":\"\"},\"radialaxis\":{\"gridcolor\":\"white\",\"linecolor\":\"white\",\"ticks\":\"\"}},\"ternary\":{\"bgcolor\":\"#E5ECF6\",\"aaxis\":{\"gridcolor\":\"white\",\"linecolor\":\"white\",\"ticks\":\"\"},\"baxis\":{\"gridcolor\":\"white\",\"linecolor\":\"white\",\"ticks\":\"\"},\"caxis\":{\"gridcolor\":\"white\",\"linecolor\":\"white\",\"ticks\":\"\"}},\"coloraxis\":{\"colorbar\":{\"outlinewidth\":0,\"ticks\":\"\"}},\"colorscale\":{\"sequential\":[[0.0,\"#0d0887\"],[0.1111111111111111,\"#46039f\"],[0.2222222222222222,\"#7201a8\"],[0.3333333333333333,\"#9c179e\"],[0.4444444444444444,\"#bd3786\"],[0.5555555555555556,\"#d8576b\"],[0.6666666666666666,\"#ed7953\"],[0.7777777777777778,\"#fb9f3a\"],[0.8888888888888888,\"#fdca26\"],[1.0,\"#f0f921\"]],\"sequentialminus\":[[0.0,\"#0d0887\"],[0.1111111111111111,\"#46039f\"],[0.2222222222222222,\"#7201a8\"],[0.3333333333333333,\"#9c179e\"],[0.4444444444444444,\"#bd3786\"],[0.5555555555555556,\"#d8576b\"],[0.6666666666666666,\"#ed7953\"],[0.7777777777777778,\"#fb9f3a\"],[0.8888888888888888,\"#fdca26\"],[1.0,\"#f0f921\"]],\"diverging\":[[0,\"#8e0152\"],[0.1,\"#c51b7d\"],[0.2,\"#de77ae\"],[0.3,\"#f1b6da\"],[0.4,\"#fde0ef\"],[0.5,\"#f7f7f7\"],[0.6,\"#e6f5d0\"],[0.7,\"#b8e186\"],[0.8,\"#7fbc41\"],[0.9,\"#4d9221\"],[1,\"#276419\"]]},\"xaxis\":{\"gridcolor\":\"white\",\"linecolor\":\"white\",\"ticks\":\"\",\"title\":{\"standoff\":15},\"zerolinecolor\":\"white\",\"automargin\":true,\"zerolinewidth\":2},\"yaxis\":{\"gridcolor\":\"white\",\"linecolor\":\"white\",\"ticks\":\"\",\"title\":{\"standoff\":15},\"zerolinecolor\":\"white\",\"automargin\":true,\"zerolinewidth\":2},\"scene\":{\"xaxis\":{\"backgroundcolor\":\"#E5ECF6\",\"gridcolor\":\"white\",\"linecolor\":\"white\",\"showbackground\":true,\"ticks\":\"\",\"zerolinecolor\":\"white\",\"gridwidth\":2},\"yaxis\":{\"backgroundcolor\":\"#E5ECF6\",\"gridcolor\":\"white\",\"linecolor\":\"white\",\"showbackground\":true,\"ticks\":\"\",\"zerolinecolor\":\"white\",\"gridwidth\":2},\"zaxis\":{\"backgroundcolor\":\"#E5ECF6\",\"gridcolor\":\"white\",\"linecolor\":\"white\",\"showbackground\":true,\"ticks\":\"\",\"zerolinecolor\":\"white\",\"gridwidth\":2}},\"shapedefaults\":{\"line\":{\"color\":\"#2a3f5f\"}},\"annotationdefaults\":{\"arrowcolor\":\"#2a3f5f\",\"arrowhead\":0,\"arrowwidth\":1},\"geo\":{\"bgcolor\":\"white\",\"landcolor\":\"#E5ECF6\",\"subunitcolor\":\"white\",\"showland\":true,\"showlakes\":true,\"lakecolor\":\"white\"},\"title\":{\"x\":0.05},\"mapbox\":{\"style\":\"light\"}}},\"xaxis\":{\"anchor\":\"y\",\"domain\":[0.0,1.0],\"title\":{\"text\":\"Title Length (characters)\"}},\"yaxis\":{\"anchor\":\"x\",\"domain\":[0.0,1.0],\"title\":{\"text\":\"count\"}},\"legend\":{\"tracegroupgap\":0},\"title\":{\"text\":\"Distribution of Video Title Lengths\"},\"barmode\":\"relative\",\"shapes\":[{\"line\":{\"color\":\"red\",\"width\":2},\"type\":\"line\",\"x0\":47.0,\"x1\":47.0,\"xref\":\"x\",\"y0\":0,\"y1\":1,\"yref\":\"y domain\"}],\"annotations\":[{\"font\":{\"color\":\"red\"},\"showarrow\":false,\"text\":\"Median: 47\",\"x\":47.0,\"xanchor\":\"left\",\"xref\":\"x\",\"y\":1,\"yanchor\":\"top\",\"yref\":\"y domain\"}],\"width\":900,\"height\":600},                        {\"responsive\": true}                    ).then(function(){\n",
       "                            \n",
       "var gd = document.getElementById('2f2db143-ac32-4bc3-8cb0-3c28934d5513');\n",
       "var x = new MutationObserver(function (mutations, observer) {{\n",
       "        var display = window.getComputedStyle(gd).display;\n",
       "        if (!display || display === 'none') {{\n",
       "            console.log([gd, 'removed!']);\n",
       "            Plotly.purge(gd);\n",
       "            observer.disconnect();\n",
       "        }}\n",
       "}});\n",
       "\n",
       "// Listen for the removal of the full notebook cells\n",
       "var notebookContainer = gd.closest('#notebook-container');\n",
       "if (notebookContainer) {{\n",
       "    x.observe(notebookContainer, {childList: true});\n",
       "}}\n",
       "\n",
       "// Listen for the clearing of the current output cell\n",
       "var outputEl = gd.closest('.output');\n",
       "if (outputEl) {{\n",
       "    x.observe(outputEl, {childList: true});\n",
       "}}\n",
       "\n",
       "                        })                };                });            </script>        </div>"
      ]
     },
     "metadata": {},
     "output_type": "display_data"
    }
   ],
   "source": [
    "video_df['title_length'] = video_df['title'].str.len()\n",
    "median_len = video_df['title_length'].median()\n",
    "\n",
    "fig = px.histogram(video_df, x='title_length', nbins=30,\n",
    "                   title=\"Distribution of Video Title Lengths\",\n",
    "                   labels={'title_length': 'Title Length (characters)'})\n",
    "\n",
    "fig.update_traces(marker_color='#2e2e2e')  \n",
    "\n",
    "fig.add_vline(x=median_len, line_color='red', line_width=2,\n",
    "              annotation_text=f\"Median: {int(median_len)}\",\n",
    "              annotation_position=\"top right\",\n",
    "              annotation_font_color=\"red\")\n",
    "\n",
    "fig.update_layout(\n",
    "    width=900, height=600\n",
    ")\n",
    "\n",
    "# fig.show()"
   ]
  },
  {
   "cell_type": "markdown",
   "id": "c57788fb-6257-4a9b-98e7-81a482c631d5",
   "metadata": {},
   "source": [
    "## PULL VIDEO STATS"
   ]
  },
  {
   "cell_type": "code",
   "execution_count": 34,
   "id": "a1cf0b9e-970a-4f8d-ac62-bdab93ff0be3",
   "metadata": {},
   "outputs": [],
   "source": [
    "def fetch_video_stats(video_ids, api_key):\n",
    "    stats = []\n",
    "    for i in range(0, len(video_ids), 50):  # API allows max 50 IDs per call\n",
    "        batch = video_ids[i:i+50]\n",
    "        url = \"https://www.googleapis.com/youtube/v3/videos\"\n",
    "        params = {\n",
    "            \"part\": \"statistics,snippet\",\n",
    "            \"id\": \",\".join(batch),\n",
    "            \"key\": api_key\n",
    "        }\n",
    "        response = requests.get(url, params=params).json()\n",
    "\n",
    "        for item in response.get(\"items\", []):\n",
    "            vid_id = item[\"id\"]\n",
    "            stats.append({\n",
    "                \"video_id\": vid_id,\n",
    "                \"title\": item[\"snippet\"][\"title\"],\n",
    "                \"view_count\": int(item[\"statistics\"].get(\"viewCount\", 0)),\n",
    "                \"like_count\": int(item[\"statistics\"].get(\"likeCount\", 0)),\n",
    "                \"comment_count\": int(item[\"statistics\"].get(\"commentCount\", 0))\n",
    "            })\n",
    "    return stats\n",
    "\n",
    "video_ids = video_df['video_id'].dropna().unique().tolist()\n",
    "video_stats = fetch_video_stats(video_ids, API_KEY)\n",
    "\n",
    "stats_df = pd.DataFrame(video_stats)\n",
    "full_df = pd.merge(video_df, stats_df, on=[\"video_id\", \"title\"], how=\"left\")"
   ]
  },
  {
   "cell_type": "code",
   "execution_count": 14,
   "id": "51d07730-a607-4551-b044-33cf0c79c4af",
   "metadata": {},
   "outputs": [
    {
     "data": {
      "text/plain": [
       "np.float64(2355212.0)"
      ]
     },
     "execution_count": 14,
     "metadata": {},
     "output_type": "execute_result"
    }
   ],
   "source": [
    "full_df = full_df[full_df.view_count < 3000000] #tinker around\n",
    "full_df.view_count.max()"
   ]
  },
  {
   "cell_type": "markdown",
   "id": "d74e89c9",
   "metadata": {},
   "source": [
    "## MORE EDA"
   ]
  },
  {
   "cell_type": "code",
   "execution_count": 27,
   "id": "2996d059",
   "metadata": {},
   "outputs": [
    {
     "data": {
      "application/vnd.plotly.v1+json": {
       "config": {
        "plotlyServerURL": "https://plot.ly"
       },
       "data": [
        {
         "hovertemplate": "View Count=%{x}<br>Like Count=%{y}<br>Title Length=%{marker.color}<extra></extra>",
         "legendgroup": "",
         "marker": {
          "color": {
           "bdata": "Y1xMHE0cIgwnMSQfJ1dBGR1HJSoZHiwbKxYYJw8YIBgiMhcbIiErWhYlKxAaEiMjLDUXMSQ3Qyk6KDFAWEJAQkAvSw44U0tcPBhLNhgYCggYX15BVWEzVD1jUS9gXlFHZF8oY1lcLi4XRjY1UTQaOTgqJCksOTQnOE0uMCU1QzIyOzs2QSo6FhEkOQcXHBMUGUsaEzshNxkVFhUROxIXFRM8IT0bKy1CLTEuPjxKTVE+Sl8UElYoXl4eJjY9IyUtIzQvJSwcFzErKDotLR8pJSQhLyUkJEIfXxciLT0rOCEkETEoFxIGDQkIEhQFDBUTCQ0RFBEXCxMOEhVREQYTEQwKDwcKDRIPEgQLEAwdCgkUExsLCwsvMR8fQQ==",
           "dtype": "i1"
          },
          "coloraxis": "coloraxis",
          "symbol": "circle"
         },
         "mode": "markers",
         "name": "",
         "orientation": "v",
         "showlegend": false,
         "type": "scatter",
         "x": {
          "bdata": "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",
          "dtype": "f8"
         },
         "xaxis": "x",
         "y": {
          "bdata": "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",
          "dtype": "f8"
         },
         "yaxis": "y"
        },
        {
         "hovertemplate": "x=%{x}<br>y=%{y}<extra></extra>",
         "legendgroup": "",
         "line": {
          "color": "#636efa",
          "dash": "solid"
         },
         "marker": {
          "symbol": "circle"
         },
         "mode": "lines",
         "name": "",
         "orientation": "v",
         "showlegend": false,
         "type": "scatter",
         "x": {
          "bdata": "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",
          "dtype": "f8"
         },
         "xaxis": "x",
         "y": {
          "bdata": "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",
          "dtype": "f8"
         },
         "yaxis": "y"
        }
       ],
       "layout": {
        "coloraxis": {
         "colorbar": {
          "title": {
           "text": "Title Length"
          }
         },
         "colorscale": [
          [
           0,
           "#440154"
          ],
          [
           0.1111111111111111,
           "#482878"
          ],
          [
           0.2222222222222222,
           "#3e4989"
          ],
          [
           0.3333333333333333,
           "#31688e"
          ],
          [
           0.4444444444444444,
           "#26828e"
          ],
          [
           0.5555555555555556,
           "#1f9e89"
          ],
          [
           0.6666666666666666,
           "#35b779"
          ],
          [
           0.7777777777777778,
           "#6ece58"
          ],
          [
           0.8888888888888888,
           "#b5de2b"
          ],
          [
           1,
           "#fde725"
          ]
         ]
        },
        "legend": {
         "tracegroupgap": 0
        },
        "template": {
         "data": {
          "bar": [
           {
            "error_x": {
             "color": "#2a3f5f"
            },
            "error_y": {
             "color": "#2a3f5f"
            },
            "marker": {
             "line": {
              "color": "#E5ECF6",
              "width": 0.5
             },
             "pattern": {
              "fillmode": "overlay",
              "size": 10,
              "solidity": 0.2
             }
            },
            "type": "bar"
           }
          ],
          "barpolar": [
           {
            "marker": {
             "line": {
              "color": "#E5ECF6",
              "width": 0.5
             },
             "pattern": {
              "fillmode": "overlay",
              "size": 10,
              "solidity": 0.2
             }
            },
            "type": "barpolar"
           }
          ],
          "carpet": [
           {
            "aaxis": {
             "endlinecolor": "#2a3f5f",
             "gridcolor": "white",
             "linecolor": "white",
             "minorgridcolor": "white",
             "startlinecolor": "#2a3f5f"
            },
            "baxis": {
             "endlinecolor": "#2a3f5f",
             "gridcolor": "white",
             "linecolor": "white",
             "minorgridcolor": "white",
             "startlinecolor": "#2a3f5f"
            },
            "type": "carpet"
           }
          ],
          "choropleth": [
           {
            "colorbar": {
             "outlinewidth": 0,
             "ticks": ""
            },
            "type": "choropleth"
           }
          ],
          "contour": [
           {
            "colorbar": {
             "outlinewidth": 0,
             "ticks": ""
            },
            "colorscale": [
             [
              0,
              "#0d0887"
             ],
             [
              0.1111111111111111,
              "#46039f"
             ],
             [
              0.2222222222222222,
              "#7201a8"
             ],
             [
              0.3333333333333333,
              "#9c179e"
             ],
             [
              0.4444444444444444,
              "#bd3786"
             ],
             [
              0.5555555555555556,
              "#d8576b"
             ],
             [
              0.6666666666666666,
              "#ed7953"
             ],
             [
              0.7777777777777778,
              "#fb9f3a"
             ],
             [
              0.8888888888888888,
              "#fdca26"
             ],
             [
              1,
              "#f0f921"
             ]
            ],
            "type": "contour"
           }
          ],
          "contourcarpet": [
           {
            "colorbar": {
             "outlinewidth": 0,
             "ticks": ""
            },
            "type": "contourcarpet"
           }
          ],
          "heatmap": [
           {
            "colorbar": {
             "outlinewidth": 0,
             "ticks": ""
            },
            "colorscale": [
             [
              0,
              "#0d0887"
             ],
             [
              0.1111111111111111,
              "#46039f"
             ],
             [
              0.2222222222222222,
              "#7201a8"
             ],
             [
              0.3333333333333333,
              "#9c179e"
             ],
             [
              0.4444444444444444,
              "#bd3786"
             ],
             [
              0.5555555555555556,
              "#d8576b"
             ],
             [
              0.6666666666666666,
              "#ed7953"
             ],
             [
              0.7777777777777778,
              "#fb9f3a"
             ],
             [
              0.8888888888888888,
              "#fdca26"
             ],
             [
              1,
              "#f0f921"
             ]
            ],
            "type": "heatmap"
           }
          ],
          "histogram": [
           {
            "marker": {
             "pattern": {
              "fillmode": "overlay",
              "size": 10,
              "solidity": 0.2
             }
            },
            "type": "histogram"
           }
          ],
          "histogram2d": [
           {
            "colorbar": {
             "outlinewidth": 0,
             "ticks": ""
            },
            "colorscale": [
             [
              0,
              "#0d0887"
             ],
             [
              0.1111111111111111,
              "#46039f"
             ],
             [
              0.2222222222222222,
              "#7201a8"
             ],
             [
              0.3333333333333333,
              "#9c179e"
             ],
             [
              0.4444444444444444,
              "#bd3786"
             ],
             [
              0.5555555555555556,
              "#d8576b"
             ],
             [
              0.6666666666666666,
              "#ed7953"
             ],
             [
              0.7777777777777778,
              "#fb9f3a"
             ],
             [
              0.8888888888888888,
              "#fdca26"
             ],
             [
              1,
              "#f0f921"
             ]
            ],
            "type": "histogram2d"
           }
          ],
          "histogram2dcontour": [
           {
            "colorbar": {
             "outlinewidth": 0,
             "ticks": ""
            },
            "colorscale": [
             [
              0,
              "#0d0887"
             ],
             [
              0.1111111111111111,
              "#46039f"
             ],
             [
              0.2222222222222222,
              "#7201a8"
             ],
             [
              0.3333333333333333,
              "#9c179e"
             ],
             [
              0.4444444444444444,
              "#bd3786"
             ],
             [
              0.5555555555555556,
              "#d8576b"
             ],
             [
              0.6666666666666666,
              "#ed7953"
             ],
             [
              0.7777777777777778,
              "#fb9f3a"
             ],
             [
              0.8888888888888888,
              "#fdca26"
             ],
             [
              1,
              "#f0f921"
             ]
            ],
            "type": "histogram2dcontour"
           }
          ],
          "mesh3d": [
           {
            "colorbar": {
             "outlinewidth": 0,
             "ticks": ""
            },
            "type": "mesh3d"
           }
          ],
          "parcoords": [
           {
            "line": {
             "colorbar": {
              "outlinewidth": 0,
              "ticks": ""
             }
            },
            "type": "parcoords"
           }
          ],
          "pie": [
           {
            "automargin": true,
            "type": "pie"
           }
          ],
          "scatter": [
           {
            "fillpattern": {
             "fillmode": "overlay",
             "size": 10,
             "solidity": 0.2
            },
            "type": "scatter"
           }
          ],
          "scatter3d": [
           {
            "line": {
             "colorbar": {
              "outlinewidth": 0,
              "ticks": ""
             }
            },
            "marker": {
             "colorbar": {
              "outlinewidth": 0,
              "ticks": ""
             }
            },
            "type": "scatter3d"
           }
          ],
          "scattercarpet": [
           {
            "marker": {
             "colorbar": {
              "outlinewidth": 0,
              "ticks": ""
             }
            },
            "type": "scattercarpet"
           }
          ],
          "scattergeo": [
           {
            "marker": {
             "colorbar": {
              "outlinewidth": 0,
              "ticks": ""
             }
            },
            "type": "scattergeo"
           }
          ],
          "scattergl": [
           {
            "marker": {
             "colorbar": {
              "outlinewidth": 0,
              "ticks": ""
             }
            },
            "type": "scattergl"
           }
          ],
          "scattermap": [
           {
            "marker": {
             "colorbar": {
              "outlinewidth": 0,
              "ticks": ""
             }
            },
            "type": "scattermap"
           }
          ],
          "scattermapbox": [
           {
            "marker": {
             "colorbar": {
              "outlinewidth": 0,
              "ticks": ""
             }
            },
            "type": "scattermapbox"
           }
          ],
          "scatterpolar": [
           {
            "marker": {
             "colorbar": {
              "outlinewidth": 0,
              "ticks": ""
             }
            },
            "type": "scatterpolar"
           }
          ],
          "scatterpolargl": [
           {
            "marker": {
             "colorbar": {
              "outlinewidth": 0,
              "ticks": ""
             }
            },
            "type": "scatterpolargl"
           }
          ],
          "scatterternary": [
           {
            "marker": {
             "colorbar": {
              "outlinewidth": 0,
              "ticks": ""
             }
            },
            "type": "scatterternary"
           }
          ],
          "surface": [
           {
            "colorbar": {
             "outlinewidth": 0,
             "ticks": ""
            },
            "colorscale": [
             [
              0,
              "#0d0887"
             ],
             [
              0.1111111111111111,
              "#46039f"
             ],
             [
              0.2222222222222222,
              "#7201a8"
             ],
             [
              0.3333333333333333,
              "#9c179e"
             ],
             [
              0.4444444444444444,
              "#bd3786"
             ],
             [
              0.5555555555555556,
              "#d8576b"
             ],
             [
              0.6666666666666666,
              "#ed7953"
             ],
             [
              0.7777777777777778,
              "#fb9f3a"
             ],
             [
              0.8888888888888888,
              "#fdca26"
             ],
             [
              1,
              "#f0f921"
             ]
            ],
            "type": "surface"
           }
          ],
          "table": [
           {
            "cells": {
             "fill": {
              "color": "#EBF0F8"
             },
             "line": {
              "color": "white"
             }
            },
            "header": {
             "fill": {
              "color": "#C8D4E3"
             },
             "line": {
              "color": "white"
             }
            },
            "type": "table"
           }
          ]
         },
         "layout": {
          "annotationdefaults": {
           "arrowcolor": "#2a3f5f",
           "arrowhead": 0,
           "arrowwidth": 1
          },
          "autotypenumbers": "strict",
          "coloraxis": {
           "colorbar": {
            "outlinewidth": 0,
            "ticks": ""
           }
          },
          "colorscale": {
           "diverging": [
            [
             0,
             "#8e0152"
            ],
            [
             0.1,
             "#c51b7d"
            ],
            [
             0.2,
             "#de77ae"
            ],
            [
             0.3,
             "#f1b6da"
            ],
            [
             0.4,
             "#fde0ef"
            ],
            [
             0.5,
             "#f7f7f7"
            ],
            [
             0.6,
             "#e6f5d0"
            ],
            [
             0.7,
             "#b8e186"
            ],
            [
             0.8,
             "#7fbc41"
            ],
            [
             0.9,
             "#4d9221"
            ],
            [
             1,
             "#276419"
            ]
           ],
           "sequential": [
            [
             0,
             "#0d0887"
            ],
            [
             0.1111111111111111,
             "#46039f"
            ],
            [
             0.2222222222222222,
             "#7201a8"
            ],
            [
             0.3333333333333333,
             "#9c179e"
            ],
            [
             0.4444444444444444,
             "#bd3786"
            ],
            [
             0.5555555555555556,
             "#d8576b"
            ],
            [
             0.6666666666666666,
             "#ed7953"
            ],
            [
             0.7777777777777778,
             "#fb9f3a"
            ],
            [
             0.8888888888888888,
             "#fdca26"
            ],
            [
             1,
             "#f0f921"
            ]
           ],
           "sequentialminus": [
            [
             0,
             "#0d0887"
            ],
            [
             0.1111111111111111,
             "#46039f"
            ],
            [
             0.2222222222222222,
             "#7201a8"
            ],
            [
             0.3333333333333333,
             "#9c179e"
            ],
            [
             0.4444444444444444,
             "#bd3786"
            ],
            [
             0.5555555555555556,
             "#d8576b"
            ],
            [
             0.6666666666666666,
             "#ed7953"
            ],
            [
             0.7777777777777778,
             "#fb9f3a"
            ],
            [
             0.8888888888888888,
             "#fdca26"
            ],
            [
             1,
             "#f0f921"
            ]
           ]
          },
          "colorway": [
           "#636efa",
           "#EF553B",
           "#00cc96",
           "#ab63fa",
           "#FFA15A",
           "#19d3f3",
           "#FF6692",
           "#B6E880",
           "#FF97FF",
           "#FECB52"
          ],
          "font": {
           "color": "#2a3f5f"
          },
          "geo": {
           "bgcolor": "white",
           "lakecolor": "white",
           "landcolor": "#E5ECF6",
           "showlakes": true,
           "showland": true,
           "subunitcolor": "white"
          },
          "hoverlabel": {
           "align": "left"
          },
          "hovermode": "closest",
          "mapbox": {
           "style": "light"
          },
          "paper_bgcolor": "white",
          "plot_bgcolor": "#E5ECF6",
          "polar": {
           "angularaxis": {
            "gridcolor": "white",
            "linecolor": "white",
            "ticks": ""
           },
           "bgcolor": "#E5ECF6",
           "radialaxis": {
            "gridcolor": "white",
            "linecolor": "white",
            "ticks": ""
           }
          },
          "scene": {
           "xaxis": {
            "backgroundcolor": "#E5ECF6",
            "gridcolor": "white",
            "gridwidth": 2,
            "linecolor": "white",
            "showbackground": true,
            "ticks": "",
            "zerolinecolor": "white"
           },
           "yaxis": {
            "backgroundcolor": "#E5ECF6",
            "gridcolor": "white",
            "gridwidth": 2,
            "linecolor": "white",
            "showbackground": true,
            "ticks": "",
            "zerolinecolor": "white"
           },
           "zaxis": {
            "backgroundcolor": "#E5ECF6",
            "gridcolor": "white",
            "gridwidth": 2,
            "linecolor": "white",
            "showbackground": true,
            "ticks": "",
            "zerolinecolor": "white"
           }
          },
          "shapedefaults": {
           "line": {
            "color": "#2a3f5f"
           }
          },
          "ternary": {
           "aaxis": {
            "gridcolor": "white",
            "linecolor": "white",
            "ticks": ""
           },
           "baxis": {
            "gridcolor": "white",
            "linecolor": "white",
            "ticks": ""
           },
           "bgcolor": "#E5ECF6",
           "caxis": {
            "gridcolor": "white",
            "linecolor": "white",
            "ticks": ""
           }
          },
          "title": {
           "x": 0.05
          },
          "xaxis": {
           "automargin": true,
           "gridcolor": "white",
           "linecolor": "white",
           "ticks": "",
           "title": {
            "standoff": 15
           },
           "zerolinecolor": "white",
           "zerolinewidth": 2
          },
          "yaxis": {
           "automargin": true,
           "gridcolor": "white",
           "linecolor": "white",
           "ticks": "",
           "title": {
            "standoff": 15
           },
           "zerolinecolor": "white",
           "zerolinewidth": 2
          }
         }
        },
        "title": {
         "text": "View Count vs Like Count (Colored by Title Length)"
        },
        "xaxis": {
         "anchor": "y",
         "domain": [
          0,
          1
         ],
         "title": {
          "text": "View Count"
         }
        },
        "yaxis": {
         "anchor": "x",
         "domain": [
          0,
          1
         ],
         "title": {
          "text": "Like Count"
         }
        }
       }
      }
     },
     "metadata": {},
     "output_type": "display_data"
    }
   ],
   "source": [
    "fig = px.scatter(\n",
    "    full_df, \n",
    "    x='view_count', \n",
    "    y='like_count',\n",
    "    color='title_length',  # This will create a gradient based on title length\n",
    "    color_continuous_scale='Viridis',  # You can change this to other color scales like 'Plasma', 'Inferno', etc.\n",
    "    title='View Count vs Like Count (Colored by Title Length)',\n",
    "    labels={\n",
    "        'view_count': 'View Count',\n",
    "        'like_count': 'Like Count',\n",
    "        'title_length': 'Title Length'\n",
    "    }\n",
    ")\n",
    "\n",
    "# Add the OLS line\n",
    "fig.add_traces(px.line(\n",
    "    x=full_df['view_count'], \n",
    "    y=full_df['predicted_like']\n",
    ").data)\n",
    "\n",
    "fig.show()"
   ]
  },
  {
   "cell_type": "code",
   "execution_count": 19,
   "id": "2cd988a0-c199-47d9-9474-3085419df681",
   "metadata": {},
   "outputs": [
    {
     "name": "stdout",
     "output_type": "stream",
     "text": [
      "                            OLS Regression Results                            \n",
      "==============================================================================\n",
      "Dep. Variable:                      y   R-squared:                       0.390\n",
      "Model:                            OLS   Adj. R-squared:                  0.389\n",
      "Method:                 Least Squares   F-statistic:                     280.4\n",
      "Date:                Wed, 28 May 2025   Prob (F-statistic):           5.22e-49\n",
      "Time:                        11:49:49   Log-Likelihood:                -4392.7\n",
      "No. Observations:                 440   AIC:                             8789.\n",
      "Df Residuals:                     438   BIC:                             8798.\n",
      "Df Model:                           1                                         \n",
      "Covariance Type:            nonrobust                                         \n",
      "==============================================================================\n",
      "                 coef    std err          t      P>|t|      [0.025      0.975]\n",
      "------------------------------------------------------------------------------\n",
      "const       1592.4594    271.218      5.872      0.000    1059.409    2125.510\n",
      "x1             0.0216      0.001     16.746      0.000       0.019       0.024\n",
      "==============================================================================\n",
      "Omnibus:                      266.925   Durbin-Watson:                   1.964\n",
      "Prob(Omnibus):                  0.000   Jarque-Bera (JB):           211858.363\n",
      "Skew:                           1.098   Prob(JB):                         0.00\n",
      "Kurtosis:                     110.476   Cond. No.                     2.28e+05\n",
      "==============================================================================\n",
      "\n",
      "Notes:\n",
      "[1] Standard Errors assume that the covariance matrix of the errors is correctly specified.\n",
      "[2] The condition number is large, 2.28e+05. This might indicate that there are\n",
      "strong multicollinearity or other numerical problems.\n"
     ]
    }
   ],
   "source": [
    "results = px.get_trendline_results(fig)\n",
    "summary = results.iloc[0][\"px_fit_results\"].summary()\n",
    "print(summary)"
   ]
  },
  {
   "cell_type": "markdown",
   "id": "d0807daa-36f9-40fa-b93f-a7944aa4a62f",
   "metadata": {},
   "source": [
    "## CLEANING / FE"
   ]
  },
  {
   "cell_type": "code",
   "execution_count": 63,
   "id": "d40f38ff-5189-467d-90b7-c434d5c9982b",
   "metadata": {},
   "outputs": [
    {
     "data": {
      "text/plain": [
       "402"
      ]
     },
     "execution_count": 63,
     "metadata": {},
     "output_type": "execute_result"
    }
   ],
   "source": [
    "SPONSOR_TAGS = [\n",
    "    \"sponsored\", \"ad\", \"gifted\", \"partnership\", \n",
    "    \"paid\", \"affiliate\", \"promo code\", \"brand deal\", \n",
    "    \"collab\", \"collaboration\", \"ambassador\"\n",
    "]\n",
    "\n",
    "def is_not_sponsored(title):\n",
    "    title = title.lower()\n",
    "    return not any(tag in title for tag in SPONSOR_TAGS)\n",
    "\n",
    "filtered_df = full_df[full_df['title'].apply(is_not_sponsored)]\n",
    "len(filtered_df)"
   ]
  },
  {
   "cell_type": "code",
   "execution_count": null,
   "id": "15212db5-4500-4be9-93de-12b0cb307f67",
   "metadata": {},
   "outputs": [],
   "source": [
    "filtered_df['engmt_rate'] = filtered_df['like_count'] / filtered_df['view_count']\n",
    "\n",
    "alpha = 1\n",
    "filtered_df['engmt_h'] = (filtered_df['like_count'] + (alpha * filtered_df['comment_count'])) / filtered_df['view_count']\n",
    "\n",
    "filtered_df['clean_title'] = filtered_df['title'].str.lower().str.replace(r'[^\\w\\s]', '', regex=True)\n",
    "\n",
    "display(filtered_df.engmt_h.min(), filtered_df.engmt_h.max())\n"
   ]
  },
  {
   "cell_type": "markdown",
   "id": "ea66a44c",
   "metadata": {},
   "source": [
    "## MODEL"
   ]
  },
  {
   "cell_type": "code",
   "execution_count": null,
   "id": "fbafbaad",
   "metadata": {},
   "outputs": [],
   "source": [
    "\n",
    "vectorizer = TfidfVectorizer(stop_words='english', max_features=1000)\n",
    "X = vectorizer.fit_transform(filtered_df['clean_title'])\n",
    "y = filtered_df['engmt_h']\n",
    "\n",
    "X_train, X_test, y_train, y_test = train_test_split(X, y, test_size=0.2, random_state=42)\n",
    "\n",
    "model = Ridge(alpha=.1)\n",
    "model.fit(X_train, y_train)\n",
    "\n",
    "y_pred = model.predict(X_test)\n",
    "rmse = np.sqrt(mean_squared_error(y_test, y_pred))\n",
    "\n",
    "rmse"
   ]
  },
  {
   "cell_type": "code",
   "execution_count": null,
   "id": "fced00a8",
   "metadata": {},
   "outputs": [],
   "source": [
    "y_all_pred = model.predict(X)\n",
    "\n",
    "# Create a DataFrame for plotting\n",
    "scatter_all_df = pd.DataFrame({\n",
    "    \"Actual\": y,     dd      # true values from full_df['engmt_rate']\n",
    "    \"Predicted\": y_all_pred\n",
    "})\n",
    "\n",
    "# Plot\n",
    "fig = px.scatter(\n",
    "    scatter_all_df,\n",
    "    x=\"Actual\",\n",
    "    y=\"Predicted\",\n",
    "    title=\"Predicted vs Actual Engagement Rate (Full Dataset)\",\n",
    "    labels={\"Actual\": \"Actual Engagement Rate\", \"Predicted\": \"Predicted Engagement Rate\"},\n",
    "    opacity=0.6\n",
    ")\n",
    "\n",
    "# Add diagonal reference line\n",
    "fig.add_shape(\n",
    "    type='line',\n",
    "    x0=0, y0=0, x1=0.2, y1=0.2,\n",
    "    line=dict(dash='dash', color='red')\n",
    ")\n",
    "\n",
    "fig.update_layout(\n",
    "    width=800,\n",
    "    height=600,\n",
    ")\n",
    "\n",
    "fig.show()"
   ]
  },
  {
   "cell_type": "markdown",
   "id": "e39bafe1",
   "metadata": {},
   "source": [
    "## HYPERPARAM TUNING"
   ]
  },
  {
   "cell_type": "code",
   "execution_count": 11,
   "id": "4dfb66ef-f974-4ddb-bcec-4d82895448a1",
   "metadata": {},
   "outputs": [
    {
     "data": {
      "text/html": [
       "<div>\n",
       "<style scoped>\n",
       "    .dataframe tbody tr th:only-of-type {\n",
       "        vertical-align: middle;\n",
       "    }\n",
       "\n",
       "    .dataframe tbody tr th {\n",
       "        vertical-align: top;\n",
       "    }\n",
       "\n",
       "    .dataframe thead th {\n",
       "        text-align: right;\n",
       "    }\n",
       "</style>\n",
       "<table border=\"1\" class=\"dataframe\">\n",
       "  <thead>\n",
       "    <tr style=\"text-align: right;\">\n",
       "      <th></th>\n",
       "      <th>Alpha</th>\n",
       "      <th>mean_test_score</th>\n",
       "      <th>RMSE</th>\n",
       "    </tr>\n",
       "  </thead>\n",
       "  <tbody>\n",
       "    <tr>\n",
       "      <th>0</th>\n",
       "      <td>0.08</td>\n",
       "      <td>-0.027997</td>\n",
       "      <td>0.027997</td>\n",
       "    </tr>\n",
       "    <tr>\n",
       "      <th>1</th>\n",
       "      <td>0.10</td>\n",
       "      <td>-0.027999</td>\n",
       "      <td>0.027999</td>\n",
       "    </tr>\n",
       "    <tr>\n",
       "      <th>2</th>\n",
       "      <td>0.05</td>\n",
       "      <td>-0.028027</td>\n",
       "      <td>0.028027</td>\n",
       "    </tr>\n",
       "    <tr>\n",
       "      <th>3</th>\n",
       "      <td>0.30</td>\n",
       "      <td>-0.028291</td>\n",
       "      <td>0.028291</td>\n",
       "    </tr>\n",
       "  </tbody>\n",
       "</table>\n",
       "</div>"
      ],
      "text/plain": [
       "   Alpha  mean_test_score      RMSE\n",
       "0   0.08        -0.027997  0.027997\n",
       "1   0.10        -0.027999  0.027999\n",
       "2   0.05        -0.028027  0.028027\n",
       "3   0.30        -0.028291  0.028291"
      ]
     },
     "execution_count": 11,
     "metadata": {},
     "output_type": "execute_result"
    }
   ],
   "source": [
    "alphas = [.05, .08, 0.1, .3]\n",
    "\n",
    "ridge = Ridge()\n",
    "grid = GridSearchCV(\n",
    "    ridge,\n",
    "    param_grid={'alpha': alphas},\n",
    "    scoring='neg_root_mean_squared_error',\n",
    "    cv=5,\n",
    "    return_train_score=True\n",
    ")\n",
    "\n",
    "grid.fit(X_train, y_train)\n",
    "\n",
    "results_df = pd.DataFrame(grid.cv_results_)[['param_alpha', 'mean_test_score']]\n",
    "results_df['RMSE'] = -results_df['mean_test_score']  # convert from negative RMSE\n",
    "results_df = results_df.rename(columns={'param_alpha': 'Alpha'})\n",
    "\n",
    "results_df = results_df.sort_values('RMSE').reset_index(drop=True)\n",
    "results_df"
   ]
  }
 ],
 "metadata": {
  "kernelspec": {
   "display_name": "venv",
   "language": "python",
   "name": "python3"
  },
  "language_info": {
   "codemirror_mode": {
    "name": "ipython",
    "version": 3
   },
   "file_extension": ".py",
   "mimetype": "text/x-python",
   "name": "python",
   "nbconvert_exporter": "python",
   "pygments_lexer": "ipython3",
   "version": "3.12.4"
  }
 },
 "nbformat": 4,
 "nbformat_minor": 5
}
